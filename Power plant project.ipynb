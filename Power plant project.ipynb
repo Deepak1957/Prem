{
 "cells": [
  {
   "cell_type": "code",
   "execution_count": 1,
   "metadata": {},
   "outputs": [],
   "source": [
    "import pandas as pd\n",
    "#import pandas.plotting._core.PlotAccessor\n",
    "import pandas.plotting as  pl\n",
    "\n",
    "import numpy as np\n",
    "import matplotlib as mpl\n",
    "import matplotlib.pyplot as plt\n",
    "import matplotlib.figure as fig\n",
    "import seaborn as sns\n",
    "\n",
    "import warnings\n",
    "warnings.filterwarnings('ignore')"
   ]
  },
  {
   "cell_type": "code",
   "execution_count": 2,
   "metadata": {},
   "outputs": [
    {
     "name": "stdout",
     "output_type": "stream",
     "text": [
      "    country country_long                          name   gppd_idnr  \\\n",
      "0       IND        India              ACME Solar Tower  WRI1020239   \n",
      "1       IND        India           ADITYA CEMENT WORKS  WRI1019881   \n",
      "2       IND        India      AES Saurashtra Windfarms  WRI1026669   \n",
      "3       IND        India                   AGARTALA GT  IND0000001   \n",
      "4       IND        India                  AKALTARA TPP  IND0000002   \n",
      "..      ...          ...                           ...         ...   \n",
      "903     IND        India                  YERMARUS TPP  IND0000513   \n",
      "904     IND        India  Yelesandra Solar Power Plant  WRI1026222   \n",
      "905     IND        India  Yelisirur wind power project  WRI1026776   \n",
      "906     IND        India                   ZAWAR MINES  WRI1019901   \n",
      "907     IND        India       iEnergy Theni Wind Farm  WRI1026761   \n",
      "\n",
      "     capacity_mw  latitude  longitude primary_fuel other_fuel1 other_fuel2  \\\n",
      "0            2.5   28.1839    73.2407        Solar         NaN         NaN   \n",
      "1           98.0   24.7663    74.6090         Coal         NaN         NaN   \n",
      "2           39.2   21.9038    69.3732         Wind         NaN         NaN   \n",
      "3          135.0   23.8712    91.3602          Gas         NaN         NaN   \n",
      "4         1800.0   21.9603    82.4091         Coal         Oil         NaN   \n",
      "..           ...       ...        ...          ...         ...         ...   \n",
      "903       1600.0   16.2949    77.3568         Coal         Oil         NaN   \n",
      "904          3.0   12.8932    78.1654        Solar         NaN         NaN   \n",
      "905         25.5   15.2758    75.5811         Wind         NaN         NaN   \n",
      "906         80.0   24.3500    73.7477         Coal         NaN         NaN   \n",
      "907         16.5    9.9344    77.4768         Wind         NaN         NaN   \n",
      "\n",
      "     ...                    geolocation_source  wepp_id year_of_capacity_data  \\\n",
      "0    ...  National Renewable Energy Laboratory      NaN                   NaN   \n",
      "1    ...                                   WRI      NaN                   NaN   \n",
      "2    ...                                   WRI      NaN                   NaN   \n",
      "3    ...                                   WRI      NaN                2018.0   \n",
      "4    ...                                   WRI      NaN                2018.0   \n",
      "..   ...                                   ...      ...                   ...   \n",
      "903  ...                                   WRI      NaN                2018.0   \n",
      "904  ...                        Industry About      NaN                   NaN   \n",
      "905  ...                                   WRI      NaN                   NaN   \n",
      "906  ...                                   WRI      NaN                   NaN   \n",
      "907  ...                                   NaN      NaN                   NaN   \n",
      "\n",
      "    generation_gwh_2013 generation_gwh_2014 generation_gwh_2015  \\\n",
      "0                   NaN                 NaN                 NaN   \n",
      "1                   NaN                 NaN                 NaN   \n",
      "2                   NaN                 NaN                 NaN   \n",
      "3            631.777928          617.789264          843.747000   \n",
      "4           1668.290000         3035.550000         5916.370000   \n",
      "..                  ...                 ...                 ...   \n",
      "903                 NaN                 NaN            0.994875   \n",
      "904                 NaN                 NaN                 NaN   \n",
      "905                 NaN                 NaN                 NaN   \n",
      "906                 NaN                 NaN                 NaN   \n",
      "907                 NaN                 NaN                 NaN   \n",
      "\n",
      "     generation_gwh_2016  generation_gwh_2017         generation_data_source  \\\n",
      "0                    NaN                  NaN                            NaN   \n",
      "1                    NaN                  NaN                            NaN   \n",
      "2                    NaN                  NaN                            NaN   \n",
      "3             886.004428           663.774500  Central Electricity Authority   \n",
      "4            6243.000000          5385.579736  Central Electricity Authority   \n",
      "..                   ...                  ...                            ...   \n",
      "903           233.596650           865.400000  Central Electricity Authority   \n",
      "904                  NaN                  NaN                            NaN   \n",
      "905                  NaN                  NaN                            NaN   \n",
      "906                  NaN                  NaN                            NaN   \n",
      "907                  NaN                  NaN                            NaN   \n",
      "\n",
      "     estimated_generation_gwh  \n",
      "0                         NaN  \n",
      "1                         NaN  \n",
      "2                         NaN  \n",
      "3                         NaN  \n",
      "4                         NaN  \n",
      "..                        ...  \n",
      "903                       NaN  \n",
      "904                       NaN  \n",
      "905                       NaN  \n",
      "906                       NaN  \n",
      "907                       NaN  \n",
      "\n",
      "[908 rows x 25 columns]\n"
     ]
    }
   ],
   "source": [
    "df=pd.read_csv(\"Power.csv\")\n",
    "print(df)"
   ]
  },
  {
   "cell_type": "code",
   "execution_count": 3,
   "metadata": {},
   "outputs": [
    {
     "data": {
      "text/html": [
       "<div>\n",
       "<style scoped>\n",
       "    .dataframe tbody tr th:only-of-type {\n",
       "        vertical-align: middle;\n",
       "    }\n",
       "\n",
       "    .dataframe tbody tr th {\n",
       "        vertical-align: top;\n",
       "    }\n",
       "\n",
       "    .dataframe thead th {\n",
       "        text-align: right;\n",
       "    }\n",
       "</style>\n",
       "<table border=\"1\" class=\"dataframe\">\n",
       "  <thead>\n",
       "    <tr style=\"text-align: right;\">\n",
       "      <th></th>\n",
       "      <th>country</th>\n",
       "      <th>country_long</th>\n",
       "      <th>name</th>\n",
       "      <th>gppd_idnr</th>\n",
       "      <th>capacity_mw</th>\n",
       "      <th>latitude</th>\n",
       "      <th>longitude</th>\n",
       "      <th>primary_fuel</th>\n",
       "      <th>other_fuel1</th>\n",
       "      <th>other_fuel2</th>\n",
       "      <th>...</th>\n",
       "      <th>geolocation_source</th>\n",
       "      <th>wepp_id</th>\n",
       "      <th>year_of_capacity_data</th>\n",
       "      <th>generation_gwh_2013</th>\n",
       "      <th>generation_gwh_2014</th>\n",
       "      <th>generation_gwh_2015</th>\n",
       "      <th>generation_gwh_2016</th>\n",
       "      <th>generation_gwh_2017</th>\n",
       "      <th>generation_data_source</th>\n",
       "      <th>estimated_generation_gwh</th>\n",
       "    </tr>\n",
       "  </thead>\n",
       "  <tbody>\n",
       "    <tr>\n",
       "      <th>0</th>\n",
       "      <td>IND</td>\n",
       "      <td>India</td>\n",
       "      <td>ACME Solar Tower</td>\n",
       "      <td>WRI1020239</td>\n",
       "      <td>2.5</td>\n",
       "      <td>28.1839</td>\n",
       "      <td>73.2407</td>\n",
       "      <td>Solar</td>\n",
       "      <td>NaN</td>\n",
       "      <td>NaN</td>\n",
       "      <td>...</td>\n",
       "      <td>National Renewable Energy Laboratory</td>\n",
       "      <td>NaN</td>\n",
       "      <td>NaN</td>\n",
       "      <td>NaN</td>\n",
       "      <td>NaN</td>\n",
       "      <td>NaN</td>\n",
       "      <td>NaN</td>\n",
       "      <td>NaN</td>\n",
       "      <td>NaN</td>\n",
       "      <td>NaN</td>\n",
       "    </tr>\n",
       "    <tr>\n",
       "      <th>1</th>\n",
       "      <td>IND</td>\n",
       "      <td>India</td>\n",
       "      <td>ADITYA CEMENT WORKS</td>\n",
       "      <td>WRI1019881</td>\n",
       "      <td>98.0</td>\n",
       "      <td>24.7663</td>\n",
       "      <td>74.6090</td>\n",
       "      <td>Coal</td>\n",
       "      <td>NaN</td>\n",
       "      <td>NaN</td>\n",
       "      <td>...</td>\n",
       "      <td>WRI</td>\n",
       "      <td>NaN</td>\n",
       "      <td>NaN</td>\n",
       "      <td>NaN</td>\n",
       "      <td>NaN</td>\n",
       "      <td>NaN</td>\n",
       "      <td>NaN</td>\n",
       "      <td>NaN</td>\n",
       "      <td>NaN</td>\n",
       "      <td>NaN</td>\n",
       "    </tr>\n",
       "    <tr>\n",
       "      <th>2</th>\n",
       "      <td>IND</td>\n",
       "      <td>India</td>\n",
       "      <td>AES Saurashtra Windfarms</td>\n",
       "      <td>WRI1026669</td>\n",
       "      <td>39.2</td>\n",
       "      <td>21.9038</td>\n",
       "      <td>69.3732</td>\n",
       "      <td>Wind</td>\n",
       "      <td>NaN</td>\n",
       "      <td>NaN</td>\n",
       "      <td>...</td>\n",
       "      <td>WRI</td>\n",
       "      <td>NaN</td>\n",
       "      <td>NaN</td>\n",
       "      <td>NaN</td>\n",
       "      <td>NaN</td>\n",
       "      <td>NaN</td>\n",
       "      <td>NaN</td>\n",
       "      <td>NaN</td>\n",
       "      <td>NaN</td>\n",
       "      <td>NaN</td>\n",
       "    </tr>\n",
       "    <tr>\n",
       "      <th>3</th>\n",
       "      <td>IND</td>\n",
       "      <td>India</td>\n",
       "      <td>AGARTALA GT</td>\n",
       "      <td>IND0000001</td>\n",
       "      <td>135.0</td>\n",
       "      <td>23.8712</td>\n",
       "      <td>91.3602</td>\n",
       "      <td>Gas</td>\n",
       "      <td>NaN</td>\n",
       "      <td>NaN</td>\n",
       "      <td>...</td>\n",
       "      <td>WRI</td>\n",
       "      <td>NaN</td>\n",
       "      <td>2018.0</td>\n",
       "      <td>631.777928</td>\n",
       "      <td>617.789264</td>\n",
       "      <td>843.747</td>\n",
       "      <td>886.004428</td>\n",
       "      <td>663.774500</td>\n",
       "      <td>Central Electricity Authority</td>\n",
       "      <td>NaN</td>\n",
       "    </tr>\n",
       "    <tr>\n",
       "      <th>4</th>\n",
       "      <td>IND</td>\n",
       "      <td>India</td>\n",
       "      <td>AKALTARA TPP</td>\n",
       "      <td>IND0000002</td>\n",
       "      <td>1800.0</td>\n",
       "      <td>21.9603</td>\n",
       "      <td>82.4091</td>\n",
       "      <td>Coal</td>\n",
       "      <td>Oil</td>\n",
       "      <td>NaN</td>\n",
       "      <td>...</td>\n",
       "      <td>WRI</td>\n",
       "      <td>NaN</td>\n",
       "      <td>2018.0</td>\n",
       "      <td>1668.290000</td>\n",
       "      <td>3035.550000</td>\n",
       "      <td>5916.370</td>\n",
       "      <td>6243.000000</td>\n",
       "      <td>5385.579736</td>\n",
       "      <td>Central Electricity Authority</td>\n",
       "      <td>NaN</td>\n",
       "    </tr>\n",
       "  </tbody>\n",
       "</table>\n",
       "<p>5 rows × 25 columns</p>\n",
       "</div>"
      ],
      "text/plain": [
       "  country country_long                      name   gppd_idnr  capacity_mw  \\\n",
       "0     IND        India          ACME Solar Tower  WRI1020239          2.5   \n",
       "1     IND        India       ADITYA CEMENT WORKS  WRI1019881         98.0   \n",
       "2     IND        India  AES Saurashtra Windfarms  WRI1026669         39.2   \n",
       "3     IND        India               AGARTALA GT  IND0000001        135.0   \n",
       "4     IND        India              AKALTARA TPP  IND0000002       1800.0   \n",
       "\n",
       "   latitude  longitude primary_fuel other_fuel1 other_fuel2  ...  \\\n",
       "0   28.1839    73.2407        Solar         NaN         NaN  ...   \n",
       "1   24.7663    74.6090         Coal         NaN         NaN  ...   \n",
       "2   21.9038    69.3732         Wind         NaN         NaN  ...   \n",
       "3   23.8712    91.3602          Gas         NaN         NaN  ...   \n",
       "4   21.9603    82.4091         Coal         Oil         NaN  ...   \n",
       "\n",
       "                     geolocation_source  wepp_id year_of_capacity_data  \\\n",
       "0  National Renewable Energy Laboratory      NaN                   NaN   \n",
       "1                                   WRI      NaN                   NaN   \n",
       "2                                   WRI      NaN                   NaN   \n",
       "3                                   WRI      NaN                2018.0   \n",
       "4                                   WRI      NaN                2018.0   \n",
       "\n",
       "  generation_gwh_2013 generation_gwh_2014 generation_gwh_2015  \\\n",
       "0                 NaN                 NaN                 NaN   \n",
       "1                 NaN                 NaN                 NaN   \n",
       "2                 NaN                 NaN                 NaN   \n",
       "3          631.777928          617.789264             843.747   \n",
       "4         1668.290000         3035.550000            5916.370   \n",
       "\n",
       "   generation_gwh_2016  generation_gwh_2017         generation_data_source  \\\n",
       "0                  NaN                  NaN                            NaN   \n",
       "1                  NaN                  NaN                            NaN   \n",
       "2                  NaN                  NaN                            NaN   \n",
       "3           886.004428           663.774500  Central Electricity Authority   \n",
       "4          6243.000000          5385.579736  Central Electricity Authority   \n",
       "\n",
       "   estimated_generation_gwh  \n",
       "0                       NaN  \n",
       "1                       NaN  \n",
       "2                       NaN  \n",
       "3                       NaN  \n",
       "4                       NaN  \n",
       "\n",
       "[5 rows x 25 columns]"
      ]
     },
     "execution_count": 3,
     "metadata": {},
     "output_type": "execute_result"
    }
   ],
   "source": [
    "df.head()"
   ]
  },
  {
   "cell_type": "code",
   "execution_count": 4,
   "metadata": {},
   "outputs": [
    {
     "data": {
      "text/plain": [
       "(908, 25)"
      ]
     },
     "execution_count": 4,
     "metadata": {},
     "output_type": "execute_result"
    }
   ],
   "source": [
    "df.shape"
   ]
  },
  {
   "cell_type": "code",
   "execution_count": 5,
   "metadata": {},
   "outputs": [
    {
     "name": "stdout",
     "output_type": "stream",
     "text": [
      "<class 'pandas.core.frame.DataFrame'>\n",
      "RangeIndex: 908 entries, 0 to 907\n",
      "Data columns (total 25 columns):\n",
      " #   Column                    Non-Null Count  Dtype  \n",
      "---  ------                    --------------  -----  \n",
      " 0   country                   908 non-null    object \n",
      " 1   country_long              908 non-null    object \n",
      " 2   name                      908 non-null    object \n",
      " 3   gppd_idnr                 908 non-null    object \n",
      " 4   capacity_mw               908 non-null    float64\n",
      " 5   latitude                  862 non-null    float64\n",
      " 6   longitude                 862 non-null    float64\n",
      " 7   primary_fuel              908 non-null    object \n",
      " 8   other_fuel1               199 non-null    object \n",
      " 9   other_fuel2               1 non-null      object \n",
      " 10  other_fuel3               0 non-null      float64\n",
      " 11  commissioning_year        528 non-null    float64\n",
      " 12  owner                     342 non-null    object \n",
      " 13  source                    908 non-null    object \n",
      " 14  url                       908 non-null    object \n",
      " 15  geolocation_source        888 non-null    object \n",
      " 16  wepp_id                   0 non-null      float64\n",
      " 17  year_of_capacity_data     520 non-null    float64\n",
      " 18  generation_gwh_2013       384 non-null    float64\n",
      " 19  generation_gwh_2014       401 non-null    float64\n",
      " 20  generation_gwh_2015       425 non-null    float64\n",
      " 21  generation_gwh_2016       437 non-null    float64\n",
      " 22  generation_gwh_2017       443 non-null    float64\n",
      " 23  generation_data_source    450 non-null    object \n",
      " 24  estimated_generation_gwh  0 non-null      float64\n",
      "dtypes: float64(13), object(12)\n",
      "memory usage: 177.5+ KB\n"
     ]
    }
   ],
   "source": [
    "df.info()"
   ]
  },
  {
   "cell_type": "code",
   "execution_count": 6,
   "metadata": {},
   "outputs": [
    {
     "data": {
      "text/plain": [
       "True"
      ]
     },
     "execution_count": 6,
     "metadata": {},
     "output_type": "execute_result"
    }
   ],
   "source": [
    "df.isnull().values.any()"
   ]
  },
  {
   "cell_type": "code",
   "execution_count": 7,
   "metadata": {},
   "outputs": [
    {
     "data": {
      "text/plain": [
       "country                       0\n",
       "country_long                  0\n",
       "name                          0\n",
       "gppd_idnr                     0\n",
       "capacity_mw                   0\n",
       "latitude                     46\n",
       "longitude                    46\n",
       "primary_fuel                  0\n",
       "other_fuel1                 709\n",
       "other_fuel2                 907\n",
       "other_fuel3                 908\n",
       "commissioning_year          380\n",
       "owner                       566\n",
       "source                        0\n",
       "url                           0\n",
       "geolocation_source           20\n",
       "wepp_id                     908\n",
       "year_of_capacity_data       388\n",
       "generation_gwh_2013         524\n",
       "generation_gwh_2014         507\n",
       "generation_gwh_2015         483\n",
       "generation_gwh_2016         471\n",
       "generation_gwh_2017         465\n",
       "generation_data_source      458\n",
       "estimated_generation_gwh    908\n",
       "dtype: int64"
      ]
     },
     "execution_count": 7,
     "metadata": {},
     "output_type": "execute_result"
    }
   ],
   "source": [
    "df.isnull().sum()"
   ]
  },
  {
   "cell_type": "code",
   "execution_count": 8,
   "metadata": {
    "scrolled": true
   },
   "outputs": [
    {
     "data": {
      "text/plain": [
       "country                      object\n",
       "country_long                 object\n",
       "name                         object\n",
       "gppd_idnr                    object\n",
       "capacity_mw                 float64\n",
       "latitude                    float64\n",
       "longitude                   float64\n",
       "primary_fuel                 object\n",
       "other_fuel1                  object\n",
       "other_fuel2                  object\n",
       "other_fuel3                 float64\n",
       "commissioning_year          float64\n",
       "owner                        object\n",
       "source                       object\n",
       "url                          object\n",
       "geolocation_source           object\n",
       "wepp_id                     float64\n",
       "year_of_capacity_data       float64\n",
       "generation_gwh_2013         float64\n",
       "generation_gwh_2014         float64\n",
       "generation_gwh_2015         float64\n",
       "generation_gwh_2016         float64\n",
       "generation_gwh_2017         float64\n",
       "generation_data_source       object\n",
       "estimated_generation_gwh    float64\n",
       "dtype: object"
      ]
     },
     "execution_count": 8,
     "metadata": {},
     "output_type": "execute_result"
    }
   ],
   "source": [
    "df.dtypes"
   ]
  },
  {
   "cell_type": "code",
   "execution_count": 9,
   "metadata": {},
   "outputs": [],
   "source": [
    "df.drop(\"country\",axis=1,inplace=True)"
   ]
  },
  {
   "cell_type": "code",
   "execution_count": 10,
   "metadata": {},
   "outputs": [],
   "source": [
    "df.drop(\"country_long\",axis=1,inplace=True)"
   ]
  },
  {
   "cell_type": "code",
   "execution_count": 11,
   "metadata": {},
   "outputs": [],
   "source": [
    "df.drop(\"name\",axis=1,inplace=True)"
   ]
  },
  {
   "cell_type": "code",
   "execution_count": 12,
   "metadata": {},
   "outputs": [],
   "source": [
    "df.drop(\"gppd_idnr\",axis=1,inplace=True)"
   ]
  },
  {
   "cell_type": "code",
   "execution_count": 13,
   "metadata": {},
   "outputs": [],
   "source": [
    "df.drop(\"primary_fuel\",axis=1,inplace=True)"
   ]
  },
  {
   "cell_type": "code",
   "execution_count": 14,
   "metadata": {},
   "outputs": [],
   "source": [
    "df.drop(\"other_fuel1\",axis=1,inplace=True)"
   ]
  },
  {
   "cell_type": "code",
   "execution_count": 15,
   "metadata": {},
   "outputs": [],
   "source": [
    "df.drop(\"other_fuel2\",axis=1,inplace=True)"
   ]
  },
  {
   "cell_type": "code",
   "execution_count": 16,
   "metadata": {},
   "outputs": [],
   "source": [
    "df.drop(\"owner\",axis=1,inplace=True)"
   ]
  },
  {
   "cell_type": "code",
   "execution_count": 17,
   "metadata": {},
   "outputs": [],
   "source": [
    "df.drop(\"url\",axis=1,inplace=True)"
   ]
  },
  {
   "cell_type": "code",
   "execution_count": 18,
   "metadata": {},
   "outputs": [],
   "source": [
    "df.drop(\"source\",axis=1,inplace=True)"
   ]
  },
  {
   "cell_type": "code",
   "execution_count": 19,
   "metadata": {},
   "outputs": [],
   "source": [
    "df.drop(\"geolocation_source\",axis=1,inplace=True)"
   ]
  },
  {
   "cell_type": "code",
   "execution_count": 20,
   "metadata": {},
   "outputs": [],
   "source": [
    "df.drop(\"generation_data_source\",axis=1,inplace=True)"
   ]
  },
  {
   "cell_type": "code",
   "execution_count": 21,
   "metadata": {},
   "outputs": [
    {
     "data": {
      "text/html": [
       "<div>\n",
       "<style scoped>\n",
       "    .dataframe tbody tr th:only-of-type {\n",
       "        vertical-align: middle;\n",
       "    }\n",
       "\n",
       "    .dataframe tbody tr th {\n",
       "        vertical-align: top;\n",
       "    }\n",
       "\n",
       "    .dataframe thead th {\n",
       "        text-align: right;\n",
       "    }\n",
       "</style>\n",
       "<table border=\"1\" class=\"dataframe\">\n",
       "  <thead>\n",
       "    <tr style=\"text-align: right;\">\n",
       "      <th></th>\n",
       "      <th>capacity_mw</th>\n",
       "      <th>latitude</th>\n",
       "      <th>longitude</th>\n",
       "      <th>other_fuel3</th>\n",
       "      <th>commissioning_year</th>\n",
       "      <th>wepp_id</th>\n",
       "      <th>year_of_capacity_data</th>\n",
       "      <th>generation_gwh_2013</th>\n",
       "      <th>generation_gwh_2014</th>\n",
       "      <th>generation_gwh_2015</th>\n",
       "      <th>generation_gwh_2016</th>\n",
       "      <th>generation_gwh_2017</th>\n",
       "      <th>estimated_generation_gwh</th>\n",
       "    </tr>\n",
       "  </thead>\n",
       "  <tbody>\n",
       "    <tr>\n",
       "      <th>0</th>\n",
       "      <td>2.5</td>\n",
       "      <td>28.1839</td>\n",
       "      <td>73.2407</td>\n",
       "      <td>NaN</td>\n",
       "      <td>2011.0</td>\n",
       "      <td>NaN</td>\n",
       "      <td>NaN</td>\n",
       "      <td>NaN</td>\n",
       "      <td>NaN</td>\n",
       "      <td>NaN</td>\n",
       "      <td>NaN</td>\n",
       "      <td>NaN</td>\n",
       "      <td>NaN</td>\n",
       "    </tr>\n",
       "    <tr>\n",
       "      <th>1</th>\n",
       "      <td>98.0</td>\n",
       "      <td>24.7663</td>\n",
       "      <td>74.6090</td>\n",
       "      <td>NaN</td>\n",
       "      <td>NaN</td>\n",
       "      <td>NaN</td>\n",
       "      <td>NaN</td>\n",
       "      <td>NaN</td>\n",
       "      <td>NaN</td>\n",
       "      <td>NaN</td>\n",
       "      <td>NaN</td>\n",
       "      <td>NaN</td>\n",
       "      <td>NaN</td>\n",
       "    </tr>\n",
       "    <tr>\n",
       "      <th>2</th>\n",
       "      <td>39.2</td>\n",
       "      <td>21.9038</td>\n",
       "      <td>69.3732</td>\n",
       "      <td>NaN</td>\n",
       "      <td>NaN</td>\n",
       "      <td>NaN</td>\n",
       "      <td>NaN</td>\n",
       "      <td>NaN</td>\n",
       "      <td>NaN</td>\n",
       "      <td>NaN</td>\n",
       "      <td>NaN</td>\n",
       "      <td>NaN</td>\n",
       "      <td>NaN</td>\n",
       "    </tr>\n",
       "    <tr>\n",
       "      <th>3</th>\n",
       "      <td>135.0</td>\n",
       "      <td>23.8712</td>\n",
       "      <td>91.3602</td>\n",
       "      <td>NaN</td>\n",
       "      <td>2004.0</td>\n",
       "      <td>NaN</td>\n",
       "      <td>2018.0</td>\n",
       "      <td>631.777928</td>\n",
       "      <td>617.789264</td>\n",
       "      <td>843.747</td>\n",
       "      <td>886.004428</td>\n",
       "      <td>663.774500</td>\n",
       "      <td>NaN</td>\n",
       "    </tr>\n",
       "    <tr>\n",
       "      <th>4</th>\n",
       "      <td>1800.0</td>\n",
       "      <td>21.9603</td>\n",
       "      <td>82.4091</td>\n",
       "      <td>NaN</td>\n",
       "      <td>2015.0</td>\n",
       "      <td>NaN</td>\n",
       "      <td>2018.0</td>\n",
       "      <td>1668.290000</td>\n",
       "      <td>3035.550000</td>\n",
       "      <td>5916.370</td>\n",
       "      <td>6243.000000</td>\n",
       "      <td>5385.579736</td>\n",
       "      <td>NaN</td>\n",
       "    </tr>\n",
       "  </tbody>\n",
       "</table>\n",
       "</div>"
      ],
      "text/plain": [
       "   capacity_mw  latitude  longitude  other_fuel3  commissioning_year  wepp_id  \\\n",
       "0          2.5   28.1839    73.2407          NaN              2011.0      NaN   \n",
       "1         98.0   24.7663    74.6090          NaN                 NaN      NaN   \n",
       "2         39.2   21.9038    69.3732          NaN                 NaN      NaN   \n",
       "3        135.0   23.8712    91.3602          NaN              2004.0      NaN   \n",
       "4       1800.0   21.9603    82.4091          NaN              2015.0      NaN   \n",
       "\n",
       "   year_of_capacity_data  generation_gwh_2013  generation_gwh_2014  \\\n",
       "0                    NaN                  NaN                  NaN   \n",
       "1                    NaN                  NaN                  NaN   \n",
       "2                    NaN                  NaN                  NaN   \n",
       "3                 2018.0           631.777928           617.789264   \n",
       "4                 2018.0          1668.290000          3035.550000   \n",
       "\n",
       "   generation_gwh_2015  generation_gwh_2016  generation_gwh_2017  \\\n",
       "0                  NaN                  NaN                  NaN   \n",
       "1                  NaN                  NaN                  NaN   \n",
       "2                  NaN                  NaN                  NaN   \n",
       "3              843.747           886.004428           663.774500   \n",
       "4             5916.370          6243.000000          5385.579736   \n",
       "\n",
       "   estimated_generation_gwh  \n",
       "0                       NaN  \n",
       "1                       NaN  \n",
       "2                       NaN  \n",
       "3                       NaN  \n",
       "4                       NaN  "
      ]
     },
     "execution_count": 21,
     "metadata": {},
     "output_type": "execute_result"
    }
   ],
   "source": [
    "df.head()"
   ]
  },
  {
   "cell_type": "code",
   "execution_count": 22,
   "metadata": {},
   "outputs": [
    {
     "data": {
      "text/plain": [
       "capacity_mw                   0\n",
       "latitude                     46\n",
       "longitude                    46\n",
       "other_fuel3                 908\n",
       "commissioning_year          380\n",
       "wepp_id                     908\n",
       "year_of_capacity_data       388\n",
       "generation_gwh_2013         524\n",
       "generation_gwh_2014         507\n",
       "generation_gwh_2015         483\n",
       "generation_gwh_2016         471\n",
       "generation_gwh_2017         465\n",
       "estimated_generation_gwh    908\n",
       "dtype: int64"
      ]
     },
     "execution_count": 22,
     "metadata": {},
     "output_type": "execute_result"
    }
   ],
   "source": [
    "df.isnull().sum()"
   ]
  },
  {
   "cell_type": "code",
   "execution_count": 23,
   "metadata": {},
   "outputs": [],
   "source": [
    "#We drop the column from the data frame those are not in useless data.\n",
    "\n",
    "df.drop(\"other_fuel3\",axis=1,inplace=True)"
   ]
  },
  {
   "cell_type": "code",
   "execution_count": 24,
   "metadata": {},
   "outputs": [],
   "source": [
    "df.drop(\"wepp_id\",axis=1,inplace=True)"
   ]
  },
  {
   "cell_type": "code",
   "execution_count": 25,
   "metadata": {},
   "outputs": [],
   "source": [
    "df.drop(\"estimated_generation_gwh\",axis=1,inplace=True)"
   ]
  },
  {
   "cell_type": "code",
   "execution_count": 26,
   "metadata": {},
   "outputs": [
    {
     "data": {
      "text/html": [
       "<div>\n",
       "<style scoped>\n",
       "    .dataframe tbody tr th:only-of-type {\n",
       "        vertical-align: middle;\n",
       "    }\n",
       "\n",
       "    .dataframe tbody tr th {\n",
       "        vertical-align: top;\n",
       "    }\n",
       "\n",
       "    .dataframe thead th {\n",
       "        text-align: right;\n",
       "    }\n",
       "</style>\n",
       "<table border=\"1\" class=\"dataframe\">\n",
       "  <thead>\n",
       "    <tr style=\"text-align: right;\">\n",
       "      <th></th>\n",
       "      <th>capacity_mw</th>\n",
       "      <th>latitude</th>\n",
       "      <th>longitude</th>\n",
       "      <th>commissioning_year</th>\n",
       "      <th>year_of_capacity_data</th>\n",
       "      <th>generation_gwh_2013</th>\n",
       "      <th>generation_gwh_2014</th>\n",
       "      <th>generation_gwh_2015</th>\n",
       "      <th>generation_gwh_2016</th>\n",
       "      <th>generation_gwh_2017</th>\n",
       "    </tr>\n",
       "  </thead>\n",
       "  <tbody>\n",
       "    <tr>\n",
       "      <th>0</th>\n",
       "      <td>2.5</td>\n",
       "      <td>28.1839</td>\n",
       "      <td>73.2407</td>\n",
       "      <td>2011.0</td>\n",
       "      <td>NaN</td>\n",
       "      <td>NaN</td>\n",
       "      <td>NaN</td>\n",
       "      <td>NaN</td>\n",
       "      <td>NaN</td>\n",
       "      <td>NaN</td>\n",
       "    </tr>\n",
       "    <tr>\n",
       "      <th>1</th>\n",
       "      <td>98.0</td>\n",
       "      <td>24.7663</td>\n",
       "      <td>74.6090</td>\n",
       "      <td>NaN</td>\n",
       "      <td>NaN</td>\n",
       "      <td>NaN</td>\n",
       "      <td>NaN</td>\n",
       "      <td>NaN</td>\n",
       "      <td>NaN</td>\n",
       "      <td>NaN</td>\n",
       "    </tr>\n",
       "    <tr>\n",
       "      <th>2</th>\n",
       "      <td>39.2</td>\n",
       "      <td>21.9038</td>\n",
       "      <td>69.3732</td>\n",
       "      <td>NaN</td>\n",
       "      <td>NaN</td>\n",
       "      <td>NaN</td>\n",
       "      <td>NaN</td>\n",
       "      <td>NaN</td>\n",
       "      <td>NaN</td>\n",
       "      <td>NaN</td>\n",
       "    </tr>\n",
       "    <tr>\n",
       "      <th>3</th>\n",
       "      <td>135.0</td>\n",
       "      <td>23.8712</td>\n",
       "      <td>91.3602</td>\n",
       "      <td>2004.0</td>\n",
       "      <td>2018.0</td>\n",
       "      <td>631.777928</td>\n",
       "      <td>617.789264</td>\n",
       "      <td>843.747</td>\n",
       "      <td>886.004428</td>\n",
       "      <td>663.774500</td>\n",
       "    </tr>\n",
       "    <tr>\n",
       "      <th>4</th>\n",
       "      <td>1800.0</td>\n",
       "      <td>21.9603</td>\n",
       "      <td>82.4091</td>\n",
       "      <td>2015.0</td>\n",
       "      <td>2018.0</td>\n",
       "      <td>1668.290000</td>\n",
       "      <td>3035.550000</td>\n",
       "      <td>5916.370</td>\n",
       "      <td>6243.000000</td>\n",
       "      <td>5385.579736</td>\n",
       "    </tr>\n",
       "  </tbody>\n",
       "</table>\n",
       "</div>"
      ],
      "text/plain": [
       "   capacity_mw  latitude  longitude  commissioning_year  \\\n",
       "0          2.5   28.1839    73.2407              2011.0   \n",
       "1         98.0   24.7663    74.6090                 NaN   \n",
       "2         39.2   21.9038    69.3732                 NaN   \n",
       "3        135.0   23.8712    91.3602              2004.0   \n",
       "4       1800.0   21.9603    82.4091              2015.0   \n",
       "\n",
       "   year_of_capacity_data  generation_gwh_2013  generation_gwh_2014  \\\n",
       "0                    NaN                  NaN                  NaN   \n",
       "1                    NaN                  NaN                  NaN   \n",
       "2                    NaN                  NaN                  NaN   \n",
       "3                 2018.0           631.777928           617.789264   \n",
       "4                 2018.0          1668.290000          3035.550000   \n",
       "\n",
       "   generation_gwh_2015  generation_gwh_2016  generation_gwh_2017  \n",
       "0                  NaN                  NaN                  NaN  \n",
       "1                  NaN                  NaN                  NaN  \n",
       "2                  NaN                  NaN                  NaN  \n",
       "3              843.747           886.004428           663.774500  \n",
       "4             5916.370          6243.000000          5385.579736  "
      ]
     },
     "execution_count": 26,
     "metadata": {},
     "output_type": "execute_result"
    }
   ],
   "source": [
    "df.head()"
   ]
  },
  {
   "cell_type": "code",
   "execution_count": 27,
   "metadata": {},
   "outputs": [],
   "source": [
    "df = df.replace(np.nan,df.mean())\n",
    "\n",
    "#We replace the nan value with mean value in whole data frame.\n",
    "#By using this replace method"
   ]
  },
  {
   "cell_type": "code",
   "execution_count": 28,
   "metadata": {},
   "outputs": [
    {
     "data": {
      "text/html": [
       "<div>\n",
       "<style scoped>\n",
       "    .dataframe tbody tr th:only-of-type {\n",
       "        vertical-align: middle;\n",
       "    }\n",
       "\n",
       "    .dataframe tbody tr th {\n",
       "        vertical-align: top;\n",
       "    }\n",
       "\n",
       "    .dataframe thead th {\n",
       "        text-align: right;\n",
       "    }\n",
       "</style>\n",
       "<table border=\"1\" class=\"dataframe\">\n",
       "  <thead>\n",
       "    <tr style=\"text-align: right;\">\n",
       "      <th></th>\n",
       "      <th>capacity_mw</th>\n",
       "      <th>latitude</th>\n",
       "      <th>longitude</th>\n",
       "      <th>commissioning_year</th>\n",
       "      <th>year_of_capacity_data</th>\n",
       "      <th>generation_gwh_2013</th>\n",
       "      <th>generation_gwh_2014</th>\n",
       "      <th>generation_gwh_2015</th>\n",
       "      <th>generation_gwh_2016</th>\n",
       "      <th>generation_gwh_2017</th>\n",
       "    </tr>\n",
       "  </thead>\n",
       "  <tbody>\n",
       "    <tr>\n",
       "      <th>0</th>\n",
       "      <td>2.5</td>\n",
       "      <td>28.1839</td>\n",
       "      <td>73.2407</td>\n",
       "      <td>2011.000000</td>\n",
       "      <td>2018.0</td>\n",
       "      <td>2304.059202</td>\n",
       "      <td>2420.393316</td>\n",
       "      <td>2414.072373</td>\n",
       "      <td>2453.936292</td>\n",
       "      <td>2531.754458</td>\n",
       "    </tr>\n",
       "    <tr>\n",
       "      <th>1</th>\n",
       "      <td>98.0</td>\n",
       "      <td>24.7663</td>\n",
       "      <td>74.6090</td>\n",
       "      <td>1996.876894</td>\n",
       "      <td>2018.0</td>\n",
       "      <td>2304.059202</td>\n",
       "      <td>2420.393316</td>\n",
       "      <td>2414.072373</td>\n",
       "      <td>2453.936292</td>\n",
       "      <td>2531.754458</td>\n",
       "    </tr>\n",
       "    <tr>\n",
       "      <th>2</th>\n",
       "      <td>39.2</td>\n",
       "      <td>21.9038</td>\n",
       "      <td>69.3732</td>\n",
       "      <td>1996.876894</td>\n",
       "      <td>2018.0</td>\n",
       "      <td>2304.059202</td>\n",
       "      <td>2420.393316</td>\n",
       "      <td>2414.072373</td>\n",
       "      <td>2453.936292</td>\n",
       "      <td>2531.754458</td>\n",
       "    </tr>\n",
       "    <tr>\n",
       "      <th>3</th>\n",
       "      <td>135.0</td>\n",
       "      <td>23.8712</td>\n",
       "      <td>91.3602</td>\n",
       "      <td>2004.000000</td>\n",
       "      <td>2018.0</td>\n",
       "      <td>631.777928</td>\n",
       "      <td>617.789264</td>\n",
       "      <td>843.747000</td>\n",
       "      <td>886.004428</td>\n",
       "      <td>663.774500</td>\n",
       "    </tr>\n",
       "    <tr>\n",
       "      <th>4</th>\n",
       "      <td>1800.0</td>\n",
       "      <td>21.9603</td>\n",
       "      <td>82.4091</td>\n",
       "      <td>2015.000000</td>\n",
       "      <td>2018.0</td>\n",
       "      <td>1668.290000</td>\n",
       "      <td>3035.550000</td>\n",
       "      <td>5916.370000</td>\n",
       "      <td>6243.000000</td>\n",
       "      <td>5385.579736</td>\n",
       "    </tr>\n",
       "  </tbody>\n",
       "</table>\n",
       "</div>"
      ],
      "text/plain": [
       "   capacity_mw  latitude  longitude  commissioning_year  \\\n",
       "0          2.5   28.1839    73.2407         2011.000000   \n",
       "1         98.0   24.7663    74.6090         1996.876894   \n",
       "2         39.2   21.9038    69.3732         1996.876894   \n",
       "3        135.0   23.8712    91.3602         2004.000000   \n",
       "4       1800.0   21.9603    82.4091         2015.000000   \n",
       "\n",
       "   year_of_capacity_data  generation_gwh_2013  generation_gwh_2014  \\\n",
       "0                 2018.0          2304.059202          2420.393316   \n",
       "1                 2018.0          2304.059202          2420.393316   \n",
       "2                 2018.0          2304.059202          2420.393316   \n",
       "3                 2018.0           631.777928           617.789264   \n",
       "4                 2018.0          1668.290000          3035.550000   \n",
       "\n",
       "   generation_gwh_2015  generation_gwh_2016  generation_gwh_2017  \n",
       "0          2414.072373          2453.936292          2531.754458  \n",
       "1          2414.072373          2453.936292          2531.754458  \n",
       "2          2414.072373          2453.936292          2531.754458  \n",
       "3           843.747000           886.004428           663.774500  \n",
       "4          5916.370000          6243.000000          5385.579736  "
      ]
     },
     "execution_count": 28,
     "metadata": {},
     "output_type": "execute_result"
    }
   ],
   "source": [
    "df.head()"
   ]
  },
  {
   "cell_type": "code",
   "execution_count": 29,
   "metadata": {},
   "outputs": [
    {
     "data": {
      "text/plain": [
       "capacity_mw              0\n",
       "latitude                 0\n",
       "longitude                0\n",
       "commissioning_year       0\n",
       "year_of_capacity_data    0\n",
       "generation_gwh_2013      0\n",
       "generation_gwh_2014      0\n",
       "generation_gwh_2015      0\n",
       "generation_gwh_2016      0\n",
       "generation_gwh_2017      0\n",
       "dtype: int64"
      ]
     },
     "execution_count": 29,
     "metadata": {},
     "output_type": "execute_result"
    }
   ],
   "source": [
    "df.isnull().sum()"
   ]
  },
  {
   "cell_type": "code",
   "execution_count": 30,
   "metadata": {},
   "outputs": [
    {
     "data": {
      "text/html": [
       "<div>\n",
       "<style scoped>\n",
       "    .dataframe tbody tr th:only-of-type {\n",
       "        vertical-align: middle;\n",
       "    }\n",
       "\n",
       "    .dataframe tbody tr th {\n",
       "        vertical-align: top;\n",
       "    }\n",
       "\n",
       "    .dataframe thead th {\n",
       "        text-align: right;\n",
       "    }\n",
       "</style>\n",
       "<table border=\"1\" class=\"dataframe\">\n",
       "  <thead>\n",
       "    <tr style=\"text-align: right;\">\n",
       "      <th></th>\n",
       "      <th>capacity_mw</th>\n",
       "      <th>latitude</th>\n",
       "      <th>longitude</th>\n",
       "      <th>commissioning_year</th>\n",
       "      <th>year_of_capacity_data</th>\n",
       "      <th>generation_gwh_2013</th>\n",
       "      <th>generation_gwh_2014</th>\n",
       "      <th>generation_gwh_2015</th>\n",
       "      <th>generation_gwh_2016</th>\n",
       "      <th>generation_gwh_2017</th>\n",
       "    </tr>\n",
       "  </thead>\n",
       "  <tbody>\n",
       "    <tr>\n",
       "      <th>count</th>\n",
       "      <td>908.000000</td>\n",
       "      <td>908.000000</td>\n",
       "      <td>908.000000</td>\n",
       "      <td>908.000000</td>\n",
       "      <td>908.0</td>\n",
       "      <td>908.000000</td>\n",
       "      <td>908.000000</td>\n",
       "      <td>908.000000</td>\n",
       "      <td>908.000000</td>\n",
       "      <td>908.000000</td>\n",
       "    </tr>\n",
       "    <tr>\n",
       "      <th>mean</th>\n",
       "      <td>321.046378</td>\n",
       "      <td>21.196189</td>\n",
       "      <td>77.447848</td>\n",
       "      <td>1996.876894</td>\n",
       "      <td>2018.0</td>\n",
       "      <td>2304.059202</td>\n",
       "      <td>2420.393316</td>\n",
       "      <td>2414.072373</td>\n",
       "      <td>2453.936292</td>\n",
       "      <td>2531.754458</td>\n",
       "    </tr>\n",
       "    <tr>\n",
       "      <th>std</th>\n",
       "      <td>580.221767</td>\n",
       "      <td>6.088110</td>\n",
       "      <td>4.781201</td>\n",
       "      <td>12.994825</td>\n",
       "      <td>0.0</td>\n",
       "      <td>2465.930970</td>\n",
       "      <td>2665.360236</td>\n",
       "      <td>2860.146282</td>\n",
       "      <td>2878.730064</td>\n",
       "      <td>2923.041411</td>\n",
       "    </tr>\n",
       "    <tr>\n",
       "      <th>min</th>\n",
       "      <td>0.000000</td>\n",
       "      <td>8.168900</td>\n",
       "      <td>68.644700</td>\n",
       "      <td>1927.000000</td>\n",
       "      <td>2018.0</td>\n",
       "      <td>0.000000</td>\n",
       "      <td>0.000000</td>\n",
       "      <td>0.000000</td>\n",
       "      <td>0.000000</td>\n",
       "      <td>0.000000</td>\n",
       "    </tr>\n",
       "    <tr>\n",
       "      <th>25%</th>\n",
       "      <td>16.837500</td>\n",
       "      <td>17.057825</td>\n",
       "      <td>74.390250</td>\n",
       "      <td>1996.876894</td>\n",
       "      <td>2018.0</td>\n",
       "      <td>1332.538825</td>\n",
       "      <td>1175.264825</td>\n",
       "      <td>874.205000</td>\n",
       "      <td>826.629750</td>\n",
       "      <td>852.438887</td>\n",
       "    </tr>\n",
       "    <tr>\n",
       "      <th>50%</th>\n",
       "      <td>60.000000</td>\n",
       "      <td>21.278850</td>\n",
       "      <td>76.978950</td>\n",
       "      <td>1996.876894</td>\n",
       "      <td>2018.0</td>\n",
       "      <td>2304.059202</td>\n",
       "      <td>2420.393316</td>\n",
       "      <td>2414.072373</td>\n",
       "      <td>2453.936292</td>\n",
       "      <td>2531.754458</td>\n",
       "    </tr>\n",
       "    <tr>\n",
       "      <th>75%</th>\n",
       "      <td>388.125000</td>\n",
       "      <td>25.183775</td>\n",
       "      <td>79.211600</td>\n",
       "      <td>2003.000000</td>\n",
       "      <td>2018.0</td>\n",
       "      <td>2304.059202</td>\n",
       "      <td>2420.393316</td>\n",
       "      <td>2414.072373</td>\n",
       "      <td>2453.936292</td>\n",
       "      <td>2531.754458</td>\n",
       "    </tr>\n",
       "    <tr>\n",
       "      <th>max</th>\n",
       "      <td>4760.000000</td>\n",
       "      <td>34.649000</td>\n",
       "      <td>95.408000</td>\n",
       "      <td>2018.000000</td>\n",
       "      <td>2018.0</td>\n",
       "      <td>27586.200000</td>\n",
       "      <td>28127.000000</td>\n",
       "      <td>30539.000000</td>\n",
       "      <td>30015.000000</td>\n",
       "      <td>35116.000000</td>\n",
       "    </tr>\n",
       "  </tbody>\n",
       "</table>\n",
       "</div>"
      ],
      "text/plain": [
       "       capacity_mw    latitude   longitude  commissioning_year  \\\n",
       "count   908.000000  908.000000  908.000000          908.000000   \n",
       "mean    321.046378   21.196189   77.447848         1996.876894   \n",
       "std     580.221767    6.088110    4.781201           12.994825   \n",
       "min       0.000000    8.168900   68.644700         1927.000000   \n",
       "25%      16.837500   17.057825   74.390250         1996.876894   \n",
       "50%      60.000000   21.278850   76.978950         1996.876894   \n",
       "75%     388.125000   25.183775   79.211600         2003.000000   \n",
       "max    4760.000000   34.649000   95.408000         2018.000000   \n",
       "\n",
       "       year_of_capacity_data  generation_gwh_2013  generation_gwh_2014  \\\n",
       "count                  908.0           908.000000           908.000000   \n",
       "mean                  2018.0          2304.059202          2420.393316   \n",
       "std                      0.0          2465.930970          2665.360236   \n",
       "min                   2018.0             0.000000             0.000000   \n",
       "25%                   2018.0          1332.538825          1175.264825   \n",
       "50%                   2018.0          2304.059202          2420.393316   \n",
       "75%                   2018.0          2304.059202          2420.393316   \n",
       "max                   2018.0         27586.200000         28127.000000   \n",
       "\n",
       "       generation_gwh_2015  generation_gwh_2016  generation_gwh_2017  \n",
       "count           908.000000           908.000000           908.000000  \n",
       "mean           2414.072373          2453.936292          2531.754458  \n",
       "std            2860.146282          2878.730064          2923.041411  \n",
       "min               0.000000             0.000000             0.000000  \n",
       "25%             874.205000           826.629750           852.438887  \n",
       "50%            2414.072373          2453.936292          2531.754458  \n",
       "75%            2414.072373          2453.936292          2531.754458  \n",
       "max           30539.000000         30015.000000         35116.000000  "
      ]
     },
     "execution_count": 30,
     "metadata": {},
     "output_type": "execute_result"
    }
   ],
   "source": [
    "df.describe()"
   ]
  },
  {
   "cell_type": "raw",
   "metadata": {},
   "source": [
    "capacity_mw:-\n",
    "mean value  321.046378\n",
    "std dev. of age is 580.221767\n",
    "diffrence is soo high hence skwness will be high.\n",
    "75 % and max value has high difrence therefore outlier is present.\n",
    "\n",
    "latitude:-\n",
    "mean value 21.19618\n",
    "std dev. of age is 6.088110\n",
    "diffrence is soo high hence skwness will be high.\n",
    "75 % and max value has not high difrence therefore outlier is present but we can neglate\n",
    "\n",
    "longitude:-\n",
    "mean value 77.447848\n",
    "std dev. of age is 4.024165\t\n",
    "diffrence is not that much hence skwness is not there.\n",
    "75 % and max value has not diffrence therefore outlier is present but we can neglate\n"
   ]
  },
  {
   "cell_type": "code",
   "execution_count": 31,
   "metadata": {},
   "outputs": [],
   "source": [
    "# label encoding \n",
    "# we are using label encoding for string value into int.\n",
    "from sklearn.preprocessing import LabelEncoder\n",
    "le = LabelEncoder()\n",
    "for column in df.columns:\n",
    "    if df[column].dtype == np.number:\n",
    "        continue\n",
    "    df[column] = LabelEncoder().fit_transform(df[column])"
   ]
  },
  {
   "cell_type": "code",
   "execution_count": 32,
   "metadata": {},
   "outputs": [
    {
     "data": {
      "text/html": [
       "<div>\n",
       "<style scoped>\n",
       "    .dataframe tbody tr th:only-of-type {\n",
       "        vertical-align: middle;\n",
       "    }\n",
       "\n",
       "    .dataframe tbody tr th {\n",
       "        vertical-align: top;\n",
       "    }\n",
       "\n",
       "    .dataframe thead th {\n",
       "        text-align: right;\n",
       "    }\n",
       "</style>\n",
       "<table border=\"1\" class=\"dataframe\">\n",
       "  <thead>\n",
       "    <tr style=\"text-align: right;\">\n",
       "      <th></th>\n",
       "      <th>capacity_mw</th>\n",
       "      <th>latitude</th>\n",
       "      <th>longitude</th>\n",
       "      <th>commissioning_year</th>\n",
       "      <th>year_of_capacity_data</th>\n",
       "      <th>generation_gwh_2013</th>\n",
       "      <th>generation_gwh_2014</th>\n",
       "      <th>generation_gwh_2015</th>\n",
       "      <th>generation_gwh_2016</th>\n",
       "      <th>generation_gwh_2017</th>\n",
       "    </tr>\n",
       "  </thead>\n",
       "  <tbody>\n",
       "    <tr>\n",
       "      <th>0</th>\n",
       "      <td>2.5</td>\n",
       "      <td>28.1839</td>\n",
       "      <td>73.2407</td>\n",
       "      <td>2011.000000</td>\n",
       "      <td>2018.0</td>\n",
       "      <td>2304.059202</td>\n",
       "      <td>2420.393316</td>\n",
       "      <td>2414.072373</td>\n",
       "      <td>2453.936292</td>\n",
       "      <td>2531.754458</td>\n",
       "    </tr>\n",
       "    <tr>\n",
       "      <th>1</th>\n",
       "      <td>98.0</td>\n",
       "      <td>24.7663</td>\n",
       "      <td>74.6090</td>\n",
       "      <td>1996.876894</td>\n",
       "      <td>2018.0</td>\n",
       "      <td>2304.059202</td>\n",
       "      <td>2420.393316</td>\n",
       "      <td>2414.072373</td>\n",
       "      <td>2453.936292</td>\n",
       "      <td>2531.754458</td>\n",
       "    </tr>\n",
       "    <tr>\n",
       "      <th>2</th>\n",
       "      <td>39.2</td>\n",
       "      <td>21.9038</td>\n",
       "      <td>69.3732</td>\n",
       "      <td>1996.876894</td>\n",
       "      <td>2018.0</td>\n",
       "      <td>2304.059202</td>\n",
       "      <td>2420.393316</td>\n",
       "      <td>2414.072373</td>\n",
       "      <td>2453.936292</td>\n",
       "      <td>2531.754458</td>\n",
       "    </tr>\n",
       "    <tr>\n",
       "      <th>3</th>\n",
       "      <td>135.0</td>\n",
       "      <td>23.8712</td>\n",
       "      <td>91.3602</td>\n",
       "      <td>2004.000000</td>\n",
       "      <td>2018.0</td>\n",
       "      <td>631.777928</td>\n",
       "      <td>617.789264</td>\n",
       "      <td>843.747000</td>\n",
       "      <td>886.004428</td>\n",
       "      <td>663.774500</td>\n",
       "    </tr>\n",
       "    <tr>\n",
       "      <th>4</th>\n",
       "      <td>1800.0</td>\n",
       "      <td>21.9603</td>\n",
       "      <td>82.4091</td>\n",
       "      <td>2015.000000</td>\n",
       "      <td>2018.0</td>\n",
       "      <td>1668.290000</td>\n",
       "      <td>3035.550000</td>\n",
       "      <td>5916.370000</td>\n",
       "      <td>6243.000000</td>\n",
       "      <td>5385.579736</td>\n",
       "    </tr>\n",
       "  </tbody>\n",
       "</table>\n",
       "</div>"
      ],
      "text/plain": [
       "   capacity_mw  latitude  longitude  commissioning_year  \\\n",
       "0          2.5   28.1839    73.2407         2011.000000   \n",
       "1         98.0   24.7663    74.6090         1996.876894   \n",
       "2         39.2   21.9038    69.3732         1996.876894   \n",
       "3        135.0   23.8712    91.3602         2004.000000   \n",
       "4       1800.0   21.9603    82.4091         2015.000000   \n",
       "\n",
       "   year_of_capacity_data  generation_gwh_2013  generation_gwh_2014  \\\n",
       "0                 2018.0          2304.059202          2420.393316   \n",
       "1                 2018.0          2304.059202          2420.393316   \n",
       "2                 2018.0          2304.059202          2420.393316   \n",
       "3                 2018.0           631.777928           617.789264   \n",
       "4                 2018.0          1668.290000          3035.550000   \n",
       "\n",
       "   generation_gwh_2015  generation_gwh_2016  generation_gwh_2017  \n",
       "0          2414.072373          2453.936292          2531.754458  \n",
       "1          2414.072373          2453.936292          2531.754458  \n",
       "2          2414.072373          2453.936292          2531.754458  \n",
       "3           843.747000           886.004428           663.774500  \n",
       "4          5916.370000          6243.000000          5385.579736  "
      ]
     },
     "execution_count": 32,
     "metadata": {},
     "output_type": "execute_result"
    }
   ],
   "source": [
    "df.head()"
   ]
  },
  {
   "cell_type": "markdown",
   "metadata": {},
   "source": [
    "# Univerate"
   ]
  },
  {
   "cell_type": "code",
   "execution_count": 33,
   "metadata": {},
   "outputs": [
    {
     "data": {
      "text/plain": [
       "Index(['capacity_mw', 'latitude', 'longitude', 'commissioning_year',\n",
       "       'year_of_capacity_data', 'generation_gwh_2013', 'generation_gwh_2014',\n",
       "       'generation_gwh_2015', 'generation_gwh_2016', 'generation_gwh_2017'],\n",
       "      dtype='object')"
      ]
     },
     "execution_count": 33,
     "metadata": {},
     "output_type": "execute_result"
    }
   ],
   "source": [
    "df.columns"
   ]
  },
  {
   "cell_type": "code",
   "execution_count": 34,
   "metadata": {},
   "outputs": [
    {
     "data": {
      "text/plain": [
       "5.0       39\n",
       "10.0      22\n",
       "600.0     21\n",
       "15.0      20\n",
       "1200.0    19\n",
       "          ..\n",
       "31.2       1\n",
       "105.7      1\n",
       "63.2       1\n",
       "49.6       1\n",
       "2.5        1\n",
       "Name: capacity_mw, Length: 365, dtype: int64"
      ]
     },
     "execution_count": 34,
     "metadata": {},
     "output_type": "execute_result"
    }
   ],
   "source": [
    "#How many time that capacity_mw count in the data frame.\n",
    "df['capacity_mw'].value_counts()"
   ]
  },
  {
   "cell_type": "code",
   "execution_count": 35,
   "metadata": {},
   "outputs": [
    {
     "data": {
      "text/plain": [
       "21.196189    46\n",
       "24.191700     3\n",
       "19.000400     3\n",
       "23.463900     2\n",
       "14.235200     2\n",
       "             ..\n",
       "23.978400     1\n",
       "24.521600     1\n",
       "17.501000     1\n",
       "20.909900     1\n",
       "16.312500     1\n",
       "Name: latitude, Length: 838, dtype: int64"
      ]
     },
     "execution_count": 35,
     "metadata": {},
     "output_type": "execute_result"
    }
   ],
   "source": [
    "df['latitude'].value_counts()"
   ]
  },
  {
   "cell_type": "code",
   "execution_count": 36,
   "metadata": {},
   "outputs": [
    {
     "data": {
      "text/plain": [
       "77.447848    46\n",
       "71.691700     4\n",
       "81.287500     3\n",
       "71.691800     3\n",
       "75.898800     3\n",
       "             ..\n",
       "79.054800     1\n",
       "78.646300     1\n",
       "88.456200     1\n",
       "75.530200     1\n",
       "87.250000     1\n",
       "Name: longitude, Length: 829, dtype: int64"
      ]
     },
     "execution_count": 36,
     "metadata": {},
     "output_type": "execute_result"
    }
   ],
   "source": [
    "df['longitude'].value_counts()"
   ]
  },
  {
   "cell_type": "code",
   "execution_count": 37,
   "metadata": {},
   "outputs": [
    {
     "data": {
      "text/plain": [
       "1996.876894    380\n",
       "2013.000000     28\n",
       "2015.000000     26\n",
       "2012.000000     23\n",
       "2016.000000     21\n",
       "              ... \n",
       "1939.000000      1\n",
       "1927.000000      1\n",
       "1949.000000      1\n",
       "1956.000000      1\n",
       "1969.000000      1\n",
       "Name: commissioning_year, Length: 74, dtype: int64"
      ]
     },
     "execution_count": 37,
     "metadata": {},
     "output_type": "execute_result"
    }
   ],
   "source": [
    "df['commissioning_year'].value_counts()"
   ]
  },
  {
   "cell_type": "code",
   "execution_count": 38,
   "metadata": {},
   "outputs": [
    {
     "data": {
      "text/plain": [
       "2018.0    908\n",
       "Name: year_of_capacity_data, dtype: int64"
      ]
     },
     "execution_count": 38,
     "metadata": {},
     "output_type": "execute_result"
    }
   ],
   "source": [
    "df['year_of_capacity_data'].value_counts()"
   ]
  },
  {
   "cell_type": "code",
   "execution_count": 39,
   "metadata": {},
   "outputs": [
    {
     "data": {
      "text/plain": [
       "2304.059202    524\n",
       "0.000000        21\n",
       "1262.137600      1\n",
       "265.754550       1\n",
       "108.982350       1\n",
       "              ... \n",
       "2998.446000      1\n",
       "3683.910000      1\n",
       "6397.000000      1\n",
       "941.000000       1\n",
       "1730.000000      1\n",
       "Name: generation_gwh_2013, Length: 365, dtype: int64"
      ]
     },
     "execution_count": 39,
     "metadata": {},
     "output_type": "execute_result"
    }
   ],
   "source": [
    "df['generation_gwh_2013'].value_counts()"
   ]
  },
  {
   "cell_type": "code",
   "execution_count": 40,
   "metadata": {},
   "outputs": [
    {
     "data": {
      "text/plain": [
       "2420.393316     507\n",
       "0.000000         28\n",
       "483.043000        1\n",
       "770.180000        1\n",
       "3968.141000       1\n",
       "               ... \n",
       "1103.932600       1\n",
       "18807.000000      1\n",
       "5380.267100       1\n",
       "2.853870          1\n",
       "7744.000000       1\n",
       "Name: generation_gwh_2014, Length: 375, dtype: int64"
      ]
     },
     "execution_count": 40,
     "metadata": {},
     "output_type": "execute_result"
    }
   ],
   "source": [
    "df['generation_gwh_2014'].value_counts()"
   ]
  },
  {
   "cell_type": "code",
   "execution_count": 41,
   "metadata": {},
   "outputs": [
    {
     "data": {
      "text/plain": [
       "2414.072373    483\n",
       "0.000000        28\n",
       "240.799900       1\n",
       "2924.000000      1\n",
       "74.684700        1\n",
       "              ... \n",
       "588.740000       1\n",
       "618.909900       1\n",
       "3480.740000      1\n",
       "282.700000       1\n",
       "909.000000       1\n",
       "Name: generation_gwh_2015, Length: 399, dtype: int64"
      ]
     },
     "execution_count": 41,
     "metadata": {},
     "output_type": "execute_result"
    }
   ],
   "source": [
    "df['generation_gwh_2015'].value_counts()"
   ]
  },
  {
   "cell_type": "code",
   "execution_count": 42,
   "metadata": {},
   "outputs": [
    {
     "data": {
      "text/plain": [
       "2453.936292    471\n",
       "0.000000        31\n",
       "1511.000000      2\n",
       "8470.570000      2\n",
       "115.081700       1\n",
       "              ... \n",
       "3212.700000      1\n",
       "716.728350       1\n",
       "3203.300000      1\n",
       "3359.000000      1\n",
       "509.000000       1\n",
       "Name: generation_gwh_2016, Length: 406, dtype: int64"
      ]
     },
     "execution_count": 42,
     "metadata": {},
     "output_type": "execute_result"
    }
   ],
   "source": [
    "df['generation_gwh_2016'].value_counts()"
   ]
  },
  {
   "cell_type": "code",
   "execution_count": 43,
   "metadata": {},
   "outputs": [
    {
     "data": {
      "text/plain": [
       "2531.754458    465\n",
       "0.000000        33\n",
       "170.085300       2\n",
       "1563.457000      1\n",
       "7018.217000      1\n",
       "              ... \n",
       "3738.400000      1\n",
       "802.198850       1\n",
       "1166.965850      1\n",
       "82.655645        1\n",
       "430.000000       1\n",
       "Name: generation_gwh_2017, Length: 411, dtype: int64"
      ]
     },
     "execution_count": 43,
     "metadata": {},
     "output_type": "execute_result"
    }
   ],
   "source": [
    "df['generation_gwh_2017'].value_counts()"
   ]
  },
  {
   "cell_type": "code",
   "execution_count": 44,
   "metadata": {
    "scrolled": false
   },
   "outputs": [
    {
     "data": {
      "text/plain": [
       "capacity_mw              3.193257\n",
       "latitude                -0.147391\n",
       "longitude                1.129836\n",
       "commissioning_year      -1.383330\n",
       "year_of_capacity_data    0.000000\n",
       "generation_gwh_2013      5.241491\n",
       "generation_gwh_2014      5.041961\n",
       "generation_gwh_2015      5.367370\n",
       "generation_gwh_2016      5.071758\n",
       "generation_gwh_2017      5.111938\n",
       "dtype: float64"
      ]
     },
     "execution_count": 44,
     "metadata": {},
     "output_type": "execute_result"
    }
   ],
   "source": [
    "df.skew()"
   ]
  },
  {
   "cell_type": "code",
   "execution_count": null,
   "metadata": {},
   "outputs": [],
   "source": [
    "#Data vicualization\n",
    "sns.countplot(df[\"latitude\"],palette=\"coolwarm\",hue=\"capacity_mw\",data=df)"
   ]
  },
  {
   "cell_type": "code",
   "execution_count": null,
   "metadata": {},
   "outputs": [],
   "source": [
    "sns.countplot(df[\"longitude\"],palette=\"coolwarm\",hue=\"capacity_mw\",data=df)"
   ]
  },
  {
   "cell_type": "code",
   "execution_count": null,
   "metadata": {},
   "outputs": [],
   "source": [
    "sns.countplot(df[\"commissioning_year\"],palette=\"coolwarm\",hue=\"capacity_mw\",data=df)"
   ]
  },
  {
   "cell_type": "code",
   "execution_count": null,
   "metadata": {},
   "outputs": [],
   "source": [
    "sns.countplot(df[\"year_of_capacity_data\"],palette=\"coolwarm\",hue=\"capacity_mw\",data=df)"
   ]
  },
  {
   "cell_type": "code",
   "execution_count": null,
   "metadata": {},
   "outputs": [],
   "source": [
    "sns.countplot(df[\"generation_gwh_2013\"],palette=\"coolwarm\",hue=\"capacity_mw\",data=df)"
   ]
  },
  {
   "cell_type": "code",
   "execution_count": null,
   "metadata": {},
   "outputs": [],
   "source": [
    "sns.countplot(df[\"generation_gwh_2014\"],palette=\"coolwarm\",hue=\"capacity_mw\",data=df)"
   ]
  },
  {
   "cell_type": "code",
   "execution_count": null,
   "metadata": {},
   "outputs": [],
   "source": [
    "sns.countplot(df[\"generation_gwh_2015\"],palette=\"coolwarm\",hue=\"capacity_mw\",data=df)"
   ]
  },
  {
   "cell_type": "code",
   "execution_count": null,
   "metadata": {},
   "outputs": [],
   "source": [
    "sns.countplot(df[\"generation_gwh_2016\"],palette=\"coolwarm\",hue=\"capacity_mw\",data=df)"
   ]
  },
  {
   "cell_type": "code",
   "execution_count": null,
   "metadata": {},
   "outputs": [],
   "source": [
    "sns.countplot(df[\"generation_gwh_2017\"],palette=\"coolwarm\",hue=\"capacity_mw\",data=df)"
   ]
  },
  {
   "cell_type": "code",
   "execution_count": null,
   "metadata": {},
   "outputs": [],
   "source": [
    "#Corretion of the numberic data"
   ]
  },
  {
   "cell_type": "code",
   "execution_count": null,
   "metadata": {},
   "outputs": [],
   "source": [
    "sns.heatmap(df.corr(),annot=True);"
   ]
  },
  {
   "cell_type": "code",
   "execution_count": null,
   "metadata": {},
   "outputs": [],
   "source": [
    "df.hist(figsize=(30,30),layout=(22,3),sharex=False)"
   ]
  },
  {
   "cell_type": "markdown",
   "metadata": {},
   "source": [
    "# Boxplot"
   ]
  },
  {
   "cell_type": "code",
   "execution_count": 46,
   "metadata": {},
   "outputs": [
    {
     "data": {
      "text/plain": [
       "capacity_mw                 AxesSubplot(0.125,0.826831;0.227941x0.053169)\n",
       "latitude                 AxesSubplot(0.398529,0.826831;0.227941x0.053169)\n",
       "longitude                AxesSubplot(0.672059,0.826831;0.227941x0.053169)\n",
       "commissioning_year          AxesSubplot(0.125,0.763028;0.227941x0.053169)\n",
       "year_of_capacity_data    AxesSubplot(0.398529,0.763028;0.227941x0.053169)\n",
       "generation_gwh_2013      AxesSubplot(0.672059,0.763028;0.227941x0.053169)\n",
       "generation_gwh_2014         AxesSubplot(0.125,0.699225;0.227941x0.053169)\n",
       "generation_gwh_2015      AxesSubplot(0.398529,0.699225;0.227941x0.053169)\n",
       "generation_gwh_2016      AxesSubplot(0.672059,0.699225;0.227941x0.053169)\n",
       "generation_gwh_2017         AxesSubplot(0.125,0.635423;0.227941x0.053169)\n",
       "dtype: object"
      ]
     },
     "execution_count": 46,
     "metadata": {},
     "output_type": "execute_result"
    },
    {
     "data": {
      "image/png": "[encoded data removed]",
      "text/plain": [
       "<Figure size 2160x2160 with 36 Axes>"
      ]
     },
     "metadata": {
      "needs_background": "light"
     },
     "output_type": "display_data"
    }
   ],
   "source": [
    "df.plot(kind=\"box\",figsize=(30,30),layout=(12,3),sharex=False,subplots=True)"
   ]
  },
  {
   "cell_type": "raw",
   "metadata": {},
   "source": [
    "Oulier is present in the data set"
   ]
  },
  {
   "cell_type": "code",
   "execution_count": 47,
   "metadata": {},
   "outputs": [
    {
     "data": {
      "text/plain": [
       "<AxesSubplot:xlabel='longitude', ylabel='Density'>"
      ]
     },
     "execution_count": 47,
     "metadata": {},
     "output_type": "execute_result"
    },
    {
     "data": {
      "image/png": "[encoded data removed]",
      "text/plain": [
       "<Figure size 432x288 with 1 Axes>"
      ]
     },
     "metadata": {
      "needs_background": "light"
     },
     "output_type": "display_data"
    }
   ],
   "source": [
    "sns.distplot(df[\"longitude\"]) "
   ]
  },
  {
   "cell_type": "code",
   "execution_count": 48,
   "metadata": {},
   "outputs": [
    {
     "data": {
      "text/plain": [
       "<AxesSubplot:xlabel='commissioning_year', ylabel='Density'>"
      ]
     },
     "execution_count": 48,
     "metadata": {},
     "output_type": "execute_result"
    },
    {
     "data": {
      "image/png": "[encoded data removed]",
      "text/plain": [
       "<Figure size 432x288 with 1 Axes>"
      ]
     },
     "metadata": {
      "needs_background": "light"
     },
     "output_type": "display_data"
    }
   ],
   "source": [
    "sns.distplot(df[\"commissioning_year\"]) "
   ]
  },
  {
   "cell_type": "code",
   "execution_count": 49,
   "metadata": {},
   "outputs": [
    {
     "data": {
      "text/plain": [
       "<AxesSubplot:xlabel='year_of_capacity_data', ylabel='Density'>"
      ]
     },
     "execution_count": 49,
     "metadata": {},
     "output_type": "execute_result"
    },
    {
     "data": {
      "image/png": "[encoded data removed]",
      "text/plain": [
       "<Figure size 432x288 with 1 Axes>"
      ]
     },
     "metadata": {
      "needs_background": "light"
     },
     "output_type": "display_data"
    }
   ],
   "source": [
    "sns.distplot(df[\"year_of_capacity_data\"]) "
   ]
  },
  {
   "cell_type": "code",
   "execution_count": 50,
   "metadata": {},
   "outputs": [
    {
     "data": {
      "text/plain": [
       "<AxesSubplot:xlabel='generation_gwh_2013', ylabel='Density'>"
      ]
     },
     "execution_count": 50,
     "metadata": {},
     "output_type": "execute_result"
    },
    {
     "data": {
      "image/png": "[encoded data removed]",
      "text/plain": [
       "<Figure size 432x288 with 1 Axes>"
      ]
     },
     "metadata": {
      "needs_background": "light"
     },
     "output_type": "display_data"
    }
   ],
   "source": [
    "sns.distplot(df[\"generation_gwh_2013\"]) "
   ]
  },
  {
   "cell_type": "code",
   "execution_count": 51,
   "metadata": {},
   "outputs": [
    {
     "data": {
      "text/plain": [
       "<AxesSubplot:xlabel='generation_gwh_2014', ylabel='Density'>"
      ]
     },
     "execution_count": 51,
     "metadata": {},
     "output_type": "execute_result"
    },
    {
     "data": {
      "image/png": "[encoded data removed]",
      "text/plain": [
       "<Figure size 432x288 with 1 Axes>"
      ]
     },
     "metadata": {
      "needs_background": "light"
     },
     "output_type": "display_data"
    }
   ],
   "source": [
    "sns.distplot(df[\"generation_gwh_2014\"]) "
   ]
  },
  {
   "cell_type": "code",
   "execution_count": 52,
   "metadata": {},
   "outputs": [
    {
     "data": {
      "text/plain": [
       "<AxesSubplot:xlabel='generation_gwh_2015', ylabel='Density'>"
      ]
     },
     "execution_count": 52,
     "metadata": {},
     "output_type": "execute_result"
    },
    {
     "data": {
      "image/png": "[encoded data removed]",
      "text/plain": [
       "<Figure size 432x288 with 1 Axes>"
      ]
     },
     "metadata": {
      "needs_background": "light"
     },
     "output_type": "display_data"
    }
   ],
   "source": [
    "sns.distplot(df[\"generation_gwh_2015\"]) "
   ]
  },
  {
   "cell_type": "code",
   "execution_count": 53,
   "metadata": {},
   "outputs": [
    {
     "data": {
      "text/plain": [
       "<AxesSubplot:xlabel='generation_gwh_2016', ylabel='Density'>"
      ]
     },
     "execution_count": 53,
     "metadata": {},
     "output_type": "execute_result"
    },
    {
     "data": {
      "image/png": "[encoded data removed]",
      "text/plain": [
       "<Figure size 432x288 with 1 Axes>"
      ]
     },
     "metadata": {
      "needs_background": "light"
     },
     "output_type": "display_data"
    }
   ],
   "source": [
    "sns.distplot(df[\"generation_gwh_2016\"]) "
   ]
  },
  {
   "cell_type": "code",
   "execution_count": 54,
   "metadata": {},
   "outputs": [
    {
     "data": {
      "text/plain": [
       "<AxesSubplot:xlabel='generation_gwh_2017', ylabel='Density'>"
      ]
     },
     "execution_count": 54,
     "metadata": {},
     "output_type": "execute_result"
    },
    {
     "data": {
      "image/png": "[encoded data removed]",
      "text/plain": [
       "<Figure size 432x288 with 1 Axes>"
      ]
     },
     "metadata": {
      "needs_background": "light"
     },
     "output_type": "display_data"
    }
   ],
   "source": [
    "sns.distplot(df[\"generation_gwh_2017\"]) "
   ]
  },
  {
   "cell_type": "code",
   "execution_count": 55,
   "metadata": {},
   "outputs": [
    {
     "data": {
      "text/plain": [
       "<AxesSubplot:xlabel='longitude', ylabel='Density'>"
      ]
     },
     "execution_count": 55,
     "metadata": {},
     "output_type": "execute_result"
    },
    {
     "data": {
      "image/png": "[encoded data removed]",
      "text/plain": [
       "<Figure size 432x288 with 1 Axes>"
      ]
     },
     "metadata": {
      "needs_background": "light"
     },
     "output_type": "display_data"
    }
   ],
   "source": [
    "sns.distplot(df[\"longitude\"]) "
   ]
  },
  {
   "cell_type": "code",
   "execution_count": 56,
   "metadata": {},
   "outputs": [
    {
     "data": {
      "text/plain": [
       "<AxesSubplot:xlabel='longitude', ylabel='Density'>"
      ]
     },
     "execution_count": 56,
     "metadata": {},
     "output_type": "execute_result"
    },
    {
     "data": {
      "image/png": "[encoded data removed]",
      "text/plain": [
       "<Figure size 432x288 with 1 Axes>"
      ]
     },
     "metadata": {
      "needs_background": "light"
     },
     "output_type": "display_data"
    }
   ],
   "source": [
    "sns.distplot(df[\"longitude\"]) "
   ]
  },
  {
   "cell_type": "code",
   "execution_count": 57,
   "metadata": {},
   "outputs": [
    {
     "data": {
      "text/plain": [
       "<AxesSubplot:xlabel='longitude', ylabel='Density'>"
      ]
     },
     "execution_count": 57,
     "metadata": {},
     "output_type": "execute_result"
    },
    {
     "data": {
      "image/png": "[encoded data removed]",
      "text/plain": [
       "<Figure size 432x288 with 1 Axes>"
      ]
     },
     "metadata": {
      "needs_background": "light"
     },
     "output_type": "display_data"
    }
   ],
   "source": [
    "sns.distplot(df[\"longitude\"]) "
   ]
  },
  {
   "cell_type": "code",
   "execution_count": 58,
   "metadata": {},
   "outputs": [
    {
     "data": {
      "text/plain": [
       "<AxesSubplot:xlabel='longitude', ylabel='Density'>"
      ]
     },
     "execution_count": 58,
     "metadata": {},
     "output_type": "execute_result"
    },
    {
     "data": {
      "image/png": "[encoded data removed]",
      "text/plain": [
       "<Figure size 432x288 with 1 Axes>"
      ]
     },
     "metadata": {
      "needs_background": "light"
     },
     "output_type": "display_data"
    }
   ],
   "source": [
    "sns.distplot(df[\"longitude\"]) "
   ]
  },
  {
   "cell_type": "code",
   "execution_count": 59,
   "metadata": {},
   "outputs": [
    {
     "data": {
      "text/plain": [
       "<AxesSubplot:xlabel='longitude', ylabel='Density'>"
      ]
     },
     "execution_count": 59,
     "metadata": {},
     "output_type": "execute_result"
    },
    {
     "data": {
      "image/png": "[encoded data removed]",
      "text/plain": [
       "<Figure size 432x288 with 1 Axes>"
      ]
     },
     "metadata": {
      "needs_background": "light"
     },
     "output_type": "display_data"
    }
   ],
   "source": [
    "sns.distplot(df[\"longitude\"]) "
   ]
  },
  {
   "cell_type": "markdown",
   "metadata": {},
   "source": [
    "# Remove outlier"
   ]
  },
  {
   "cell_type": "code",
   "execution_count": 60,
   "metadata": {},
   "outputs": [
    {
     "data": {
      "text/plain": [
       "array([[5.49310543e-01, 1.14839610e+00, 8.80420380e-01, ...,\n",
       "        0.00000000e+00, 1.58055100e-16, 1.55659091e-16],\n",
       "       [3.84627594e-01, 5.86730280e-01, 5.94079309e-01, ...,\n",
       "        0.00000000e+00, 1.58055100e-16, 1.55659091e-16],\n",
       "       [4.86024006e-01, 1.16292425e-01, 1.68976343e+00, ...,\n",
       "        0.00000000e+00, 1.58055100e-16, 1.55659091e-16],\n",
       "       ...,\n",
       "       [5.09648681e-01, 9.72986914e-01, 3.90650123e-01, ...,\n",
       "        0.00000000e+00, 1.58055100e-16, 1.55659091e-16],\n",
       "       [4.15667312e-01, 5.18313414e-01, 7.74321627e-01, ...,\n",
       "        0.00000000e+00, 1.58055100e-16, 1.55659091e-16],\n",
       "       [5.25168540e-01, 1.85081984e+00, 6.05876281e-03, ...,\n",
       "        0.00000000e+00, 1.58055100e-16, 1.55659091e-16]])"
      ]
     },
     "execution_count": 60,
     "metadata": {},
     "output_type": "execute_result"
    }
   ],
   "source": [
    "from scipy.stats import zscore \n",
    "z=np.abs(zscore(df))\n",
    "z"
   ]
  },
  {
   "cell_type": "code",
   "execution_count": 61,
   "metadata": {},
   "outputs": [
    {
     "name": "stdout",
     "output_type": "stream",
     "text": [
      "(array([ 15,  15,  15,  15, 144, 144, 144, 144, 144, 144, 159, 159, 180,\n",
      "       184, 210, 210, 210, 210, 210, 210, 222, 240, 245, 309, 309, 309,\n",
      "       309, 309, 309, 324, 334, 341, 343, 361, 364, 365, 365, 365, 365,\n",
      "       365, 365, 372, 376, 389, 417, 428, 445, 455, 479, 483, 485, 494,\n",
      "       494, 494, 494, 494, 494, 495, 495, 495, 495, 495, 495, 500, 520,\n",
      "       530, 533, 539, 542, 547, 575, 584, 602, 622, 639, 649, 649, 649,\n",
      "       649, 649, 649, 658, 658, 658, 658, 658, 658, 696, 696, 696, 696,\n",
      "       696, 707, 710, 722, 722, 722, 722, 725, 725, 725, 725, 725, 727,\n",
      "       727, 727, 727, 727, 727, 729, 787, 787, 787, 787, 787, 787, 789,\n",
      "       808, 809, 809, 809, 809, 809, 819, 848, 849, 849, 881, 881, 881,\n",
      "       881, 881, 881], dtype=int64), array([0, 7, 8, 9, 0, 5, 6, 7, 8, 9, 5, 6, 2, 2, 0, 5, 6, 7, 8, 9, 3, 2,\n",
      "       2, 0, 5, 6, 7, 8, 9, 2, 2, 2, 3, 2, 0, 0, 5, 6, 7, 8, 9, 3, 0, 2,\n",
      "       2, 2, 3, 3, 3, 0, 3, 0, 5, 6, 7, 8, 9, 0, 5, 6, 7, 8, 9, 2, 2, 2,\n",
      "       5, 3, 3, 2, 3, 3, 3, 3, 2, 0, 5, 6, 7, 8, 9, 0, 5, 6, 7, 8, 9, 0,\n",
      "       6, 7, 8, 9, 3, 3, 5, 6, 7, 8, 5, 6, 7, 8, 9, 0, 5, 6, 7, 8, 9, 3,\n",
      "       0, 5, 6, 7, 8, 9, 0, 3, 0, 6, 7, 8, 9, 2, 2, 2, 3, 0, 5, 6, 7, 8,\n",
      "       9], dtype=int64))\n"
     ]
    }
   ],
   "source": [
    "threshold=3\n",
    "print(np.where(z>3))"
   ]
  },
  {
   "cell_type": "code",
   "execution_count": 62,
   "metadata": {},
   "outputs": [],
   "source": [
    "df_new = df[(z<3).all(axis=1)]"
   ]
  },
  {
   "cell_type": "code",
   "execution_count": 63,
   "metadata": {},
   "outputs": [
    {
     "data": {
      "text/plain": [
       "(0, 10)"
      ]
     },
     "execution_count": 63,
     "metadata": {},
     "output_type": "execute_result"
    }
   ],
   "source": [
    "df_new.shape"
   ]
  },
  {
   "cell_type": "code",
   "execution_count": 64,
   "metadata": {},
   "outputs": [
    {
     "data": {
      "text/plain": [
       "(908, 10)"
      ]
     },
     "execution_count": 64,
     "metadata": {},
     "output_type": "execute_result"
    }
   ],
   "source": [
    "df.shape"
   ]
  },
  {
   "cell_type": "code",
   "execution_count": 65,
   "metadata": {},
   "outputs": [
    {
     "data": {
      "text/html": [
       "<div>\n",
       "<style scoped>\n",
       "    .dataframe tbody tr th:only-of-type {\n",
       "        vertical-align: middle;\n",
       "    }\n",
       "\n",
       "    .dataframe tbody tr th {\n",
       "        vertical-align: top;\n",
       "    }\n",
       "\n",
       "    .dataframe thead th {\n",
       "        text-align: right;\n",
       "    }\n",
       "</style>\n",
       "<table border=\"1\" class=\"dataframe\">\n",
       "  <thead>\n",
       "    <tr style=\"text-align: right;\">\n",
       "      <th></th>\n",
       "      <th>capacity_mw</th>\n",
       "      <th>latitude</th>\n",
       "      <th>longitude</th>\n",
       "      <th>commissioning_year</th>\n",
       "      <th>year_of_capacity_data</th>\n",
       "      <th>generation_gwh_2013</th>\n",
       "      <th>generation_gwh_2014</th>\n",
       "      <th>generation_gwh_2015</th>\n",
       "      <th>generation_gwh_2016</th>\n",
       "      <th>generation_gwh_2017</th>\n",
       "    </tr>\n",
       "  </thead>\n",
       "  <tbody>\n",
       "    <tr>\n",
       "      <th>0</th>\n",
       "      <td>2.5</td>\n",
       "      <td>28.1839</td>\n",
       "      <td>73.2407</td>\n",
       "      <td>2011.000000</td>\n",
       "      <td>2018.0</td>\n",
       "      <td>2304.059202</td>\n",
       "      <td>2420.393316</td>\n",
       "      <td>2414.072373</td>\n",
       "      <td>2453.936292</td>\n",
       "      <td>2531.754458</td>\n",
       "    </tr>\n",
       "    <tr>\n",
       "      <th>1</th>\n",
       "      <td>98.0</td>\n",
       "      <td>24.7663</td>\n",
       "      <td>74.6090</td>\n",
       "      <td>1996.876894</td>\n",
       "      <td>2018.0</td>\n",
       "      <td>2304.059202</td>\n",
       "      <td>2420.393316</td>\n",
       "      <td>2414.072373</td>\n",
       "      <td>2453.936292</td>\n",
       "      <td>2531.754458</td>\n",
       "    </tr>\n",
       "    <tr>\n",
       "      <th>2</th>\n",
       "      <td>39.2</td>\n",
       "      <td>21.9038</td>\n",
       "      <td>69.3732</td>\n",
       "      <td>1996.876894</td>\n",
       "      <td>2018.0</td>\n",
       "      <td>2304.059202</td>\n",
       "      <td>2420.393316</td>\n",
       "      <td>2414.072373</td>\n",
       "      <td>2453.936292</td>\n",
       "      <td>2531.754458</td>\n",
       "    </tr>\n",
       "    <tr>\n",
       "      <th>3</th>\n",
       "      <td>135.0</td>\n",
       "      <td>23.8712</td>\n",
       "      <td>91.3602</td>\n",
       "      <td>2004.000000</td>\n",
       "      <td>2018.0</td>\n",
       "      <td>631.777928</td>\n",
       "      <td>617.789264</td>\n",
       "      <td>843.747000</td>\n",
       "      <td>886.004428</td>\n",
       "      <td>663.774500</td>\n",
       "    </tr>\n",
       "    <tr>\n",
       "      <th>4</th>\n",
       "      <td>1800.0</td>\n",
       "      <td>21.9603</td>\n",
       "      <td>82.4091</td>\n",
       "      <td>2015.000000</td>\n",
       "      <td>2018.0</td>\n",
       "      <td>1668.290000</td>\n",
       "      <td>3035.550000</td>\n",
       "      <td>5916.370000</td>\n",
       "      <td>6243.000000</td>\n",
       "      <td>5385.579736</td>\n",
       "    </tr>\n",
       "  </tbody>\n",
       "</table>\n",
       "</div>"
      ],
      "text/plain": [
       "   capacity_mw  latitude  longitude  commissioning_year  \\\n",
       "0          2.5   28.1839    73.2407         2011.000000   \n",
       "1         98.0   24.7663    74.6090         1996.876894   \n",
       "2         39.2   21.9038    69.3732         1996.876894   \n",
       "3        135.0   23.8712    91.3602         2004.000000   \n",
       "4       1800.0   21.9603    82.4091         2015.000000   \n",
       "\n",
       "   year_of_capacity_data  generation_gwh_2013  generation_gwh_2014  \\\n",
       "0                 2018.0          2304.059202          2420.393316   \n",
       "1                 2018.0          2304.059202          2420.393316   \n",
       "2                 2018.0          2304.059202          2420.393316   \n",
       "3                 2018.0           631.777928           617.789264   \n",
       "4                 2018.0          1668.290000          3035.550000   \n",
       "\n",
       "   generation_gwh_2015  generation_gwh_2016  generation_gwh_2017  \n",
       "0          2414.072373          2453.936292          2531.754458  \n",
       "1          2414.072373          2453.936292          2531.754458  \n",
       "2          2414.072373          2453.936292          2531.754458  \n",
       "3           843.747000           886.004428           663.774500  \n",
       "4          5916.370000          6243.000000          5385.579736  "
      ]
     },
     "execution_count": 65,
     "metadata": {},
     "output_type": "execute_result"
    }
   ],
   "source": [
    "df.head()"
   ]
  },
  {
   "cell_type": "code",
   "execution_count": 66,
   "metadata": {},
   "outputs": [],
   "source": [
    "y=df.iloc[:,: 1]\n",
    "#y=df_new[1:,:]"
   ]
  },
  {
   "cell_type": "code",
   "execution_count": 67,
   "metadata": {},
   "outputs": [
    {
     "data": {
      "text/html": [
       "<div>\n",
       "<style scoped>\n",
       "    .dataframe tbody tr th:only-of-type {\n",
       "        vertical-align: middle;\n",
       "    }\n",
       "\n",
       "    .dataframe tbody tr th {\n",
       "        vertical-align: top;\n",
       "    }\n",
       "\n",
       "    .dataframe thead th {\n",
       "        text-align: right;\n",
       "    }\n",
       "</style>\n",
       "<table border=\"1\" class=\"dataframe\">\n",
       "  <thead>\n",
       "    <tr style=\"text-align: right;\">\n",
       "      <th></th>\n",
       "      <th>capacity_mw</th>\n",
       "    </tr>\n",
       "  </thead>\n",
       "  <tbody>\n",
       "    <tr>\n",
       "      <th>0</th>\n",
       "      <td>2.5</td>\n",
       "    </tr>\n",
       "    <tr>\n",
       "      <th>1</th>\n",
       "      <td>98.0</td>\n",
       "    </tr>\n",
       "    <tr>\n",
       "      <th>2</th>\n",
       "      <td>39.2</td>\n",
       "    </tr>\n",
       "    <tr>\n",
       "      <th>3</th>\n",
       "      <td>135.0</td>\n",
       "    </tr>\n",
       "    <tr>\n",
       "      <th>4</th>\n",
       "      <td>1800.0</td>\n",
       "    </tr>\n",
       "  </tbody>\n",
       "</table>\n",
       "</div>"
      ],
      "text/plain": [
       "   capacity_mw\n",
       "0          2.5\n",
       "1         98.0\n",
       "2         39.2\n",
       "3        135.0\n",
       "4       1800.0"
      ]
     },
     "execution_count": 67,
     "metadata": {},
     "output_type": "execute_result"
    }
   ],
   "source": [
    "y.head()"
   ]
  },
  {
   "cell_type": "code",
   "execution_count": 68,
   "metadata": {},
   "outputs": [
    {
     "data": {
      "text/html": [
       "<div>\n",
       "<style scoped>\n",
       "    .dataframe tbody tr th:only-of-type {\n",
       "        vertical-align: middle;\n",
       "    }\n",
       "\n",
       "    .dataframe tbody tr th {\n",
       "        vertical-align: top;\n",
       "    }\n",
       "\n",
       "    .dataframe thead th {\n",
       "        text-align: right;\n",
       "    }\n",
       "</style>\n",
       "<table border=\"1\" class=\"dataframe\">\n",
       "  <thead>\n",
       "    <tr style=\"text-align: right;\">\n",
       "      <th></th>\n",
       "      <th>latitude</th>\n",
       "      <th>longitude</th>\n",
       "      <th>commissioning_year</th>\n",
       "      <th>year_of_capacity_data</th>\n",
       "      <th>generation_gwh_2013</th>\n",
       "      <th>generation_gwh_2014</th>\n",
       "      <th>generation_gwh_2015</th>\n",
       "      <th>generation_gwh_2016</th>\n",
       "      <th>generation_gwh_2017</th>\n",
       "    </tr>\n",
       "  </thead>\n",
       "  <tbody>\n",
       "    <tr>\n",
       "      <th>0</th>\n",
       "      <td>28.1839</td>\n",
       "      <td>73.2407</td>\n",
       "      <td>2011.000000</td>\n",
       "      <td>2018.0</td>\n",
       "      <td>2304.059202</td>\n",
       "      <td>2420.393316</td>\n",
       "      <td>2414.072373</td>\n",
       "      <td>2453.936292</td>\n",
       "      <td>2531.754458</td>\n",
       "    </tr>\n",
       "    <tr>\n",
       "      <th>1</th>\n",
       "      <td>24.7663</td>\n",
       "      <td>74.6090</td>\n",
       "      <td>1996.876894</td>\n",
       "      <td>2018.0</td>\n",
       "      <td>2304.059202</td>\n",
       "      <td>2420.393316</td>\n",
       "      <td>2414.072373</td>\n",
       "      <td>2453.936292</td>\n",
       "      <td>2531.754458</td>\n",
       "    </tr>\n",
       "    <tr>\n",
       "      <th>2</th>\n",
       "      <td>21.9038</td>\n",
       "      <td>69.3732</td>\n",
       "      <td>1996.876894</td>\n",
       "      <td>2018.0</td>\n",
       "      <td>2304.059202</td>\n",
       "      <td>2420.393316</td>\n",
       "      <td>2414.072373</td>\n",
       "      <td>2453.936292</td>\n",
       "      <td>2531.754458</td>\n",
       "    </tr>\n",
       "    <tr>\n",
       "      <th>3</th>\n",
       "      <td>23.8712</td>\n",
       "      <td>91.3602</td>\n",
       "      <td>2004.000000</td>\n",
       "      <td>2018.0</td>\n",
       "      <td>631.777928</td>\n",
       "      <td>617.789264</td>\n",
       "      <td>843.747000</td>\n",
       "      <td>886.004428</td>\n",
       "      <td>663.774500</td>\n",
       "    </tr>\n",
       "    <tr>\n",
       "      <th>4</th>\n",
       "      <td>21.9603</td>\n",
       "      <td>82.4091</td>\n",
       "      <td>2015.000000</td>\n",
       "      <td>2018.0</td>\n",
       "      <td>1668.290000</td>\n",
       "      <td>3035.550000</td>\n",
       "      <td>5916.370000</td>\n",
       "      <td>6243.000000</td>\n",
       "      <td>5385.579736</td>\n",
       "    </tr>\n",
       "  </tbody>\n",
       "</table>\n",
       "</div>"
      ],
      "text/plain": [
       "   latitude  longitude  commissioning_year  year_of_capacity_data  \\\n",
       "0   28.1839    73.2407         2011.000000                 2018.0   \n",
       "1   24.7663    74.6090         1996.876894                 2018.0   \n",
       "2   21.9038    69.3732         1996.876894                 2018.0   \n",
       "3   23.8712    91.3602         2004.000000                 2018.0   \n",
       "4   21.9603    82.4091         2015.000000                 2018.0   \n",
       "\n",
       "   generation_gwh_2013  generation_gwh_2014  generation_gwh_2015  \\\n",
       "0          2304.059202          2420.393316          2414.072373   \n",
       "1          2304.059202          2420.393316          2414.072373   \n",
       "2          2304.059202          2420.393316          2414.072373   \n",
       "3           631.777928           617.789264           843.747000   \n",
       "4          1668.290000          3035.550000          5916.370000   \n",
       "\n",
       "   generation_gwh_2016  generation_gwh_2017  \n",
       "0          2453.936292          2531.754458  \n",
       "1          2453.936292          2531.754458  \n",
       "2          2453.936292          2531.754458  \n",
       "3           886.004428           663.774500  \n",
       "4          6243.000000          5385.579736  "
      ]
     },
     "execution_count": 68,
     "metadata": {},
     "output_type": "execute_result"
    }
   ],
   "source": [
    "x=df.iloc[: , 1:]\n",
    "x.head()"
   ]
  },
  {
   "cell_type": "code",
   "execution_count": 98,
   "metadata": {},
   "outputs": [],
   "source": [
    "from sklearn.linear_model import LinearRegression\n",
    "from sklearn.metrics import mean_squared_error,mean_absolute_error\n",
    "from sklearn.model_selection import train_test_split"
   ]
  },
  {
   "cell_type": "code",
   "execution_count": 99,
   "metadata": {},
   "outputs": [],
   "source": [
    "x_train,x_test,y_train,y_test = train_test_split(x,y,test_size=.33,random_state=42)"
   ]
  },
  {
   "cell_type": "raw",
   "metadata": {},
   "source": [
    "split the data from x and y train and test \n",
    "33 percet is test.\n",
    "70 percent is train\n",
    "random state = 42"
   ]
  },
  {
   "cell_type": "code",
   "execution_count": 100,
   "metadata": {},
   "outputs": [
    {
     "data": {
      "text/plain": [
       "(608, 9)"
      ]
     },
     "execution_count": 100,
     "metadata": {},
     "output_type": "execute_result"
    }
   ],
   "source": [
    "x_train.shape # y train rows and columns"
   ]
  },
  {
   "cell_type": "code",
   "execution_count": 101,
   "metadata": {},
   "outputs": [
    {
     "data": {
      "text/plain": [
       "(608, 1)"
      ]
     },
     "execution_count": 101,
     "metadata": {},
     "output_type": "execute_result"
    }
   ],
   "source": [
    "y_train.shape  # y train rows and columns"
   ]
  },
  {
   "cell_type": "code",
   "execution_count": 102,
   "metadata": {},
   "outputs": [],
   "source": [
    "lm = LinearRegression() # linearRegression is stored in the lm"
   ]
  },
  {
   "cell_type": "code",
   "execution_count": 103,
   "metadata": {},
   "outputs": [
    {
     "data": {
      "text/plain": [
       "LinearRegression()"
      ]
     },
     "execution_count": 103,
     "metadata": {},
     "output_type": "execute_result"
    }
   ],
   "source": [
    "lm.fit(x_train,y_train) "
   ]
  },
  {
   "cell_type": "code",
   "execution_count": 104,
   "metadata": {},
   "outputs": [
    {
     "data": {
      "text/plain": [
       "array([[ 1.51960376e+00,  2.01637279e+01,  5.86572741e+00,\n",
       "        -5.83977311e-14,  4.06817881e-02,  3.12266048e-03,\n",
       "        -6.61925139e-02,  3.29291647e-02,  1.39164488e-01]])"
      ]
     },
     "execution_count": 104,
     "metadata": {},
     "output_type": "execute_result"
    }
   ],
   "source": [
    "lm.coef_"
   ]
  },
  {
   "cell_type": "code",
   "execution_count": 105,
   "metadata": {},
   "outputs": [
    {
     "data": {
      "text/plain": [
       "array([-13360.78352617])"
      ]
     },
     "execution_count": 105,
     "metadata": {},
     "output_type": "execute_result"
    }
   ],
   "source": [
    "lm.intercept_ # we checked the intercept line on it."
   ]
  },
  {
   "cell_type": "code",
   "execution_count": 106,
   "metadata": {},
   "outputs": [
    {
     "data": {
      "text/plain": [
       "0.6087481631879474"
      ]
     },
     "execution_count": 106,
     "metadata": {},
     "output_type": "execute_result"
    }
   ],
   "source": [
    "lm.score(x_train,y_train) # we are checking the score of the data set "
   ]
  },
  {
   "cell_type": "markdown",
   "metadata": {},
   "source": [
    "# Decision Tree Regressor"
   ]
  },
  {
   "cell_type": "code",
   "execution_count": 107,
   "metadata": {},
   "outputs": [
    {
     "data": {
      "text/plain": [
       "DecisionTreeRegressor()"
      ]
     },
     "execution_count": 107,
     "metadata": {},
     "output_type": "execute_result"
    }
   ],
   "source": [
    "from sklearn.tree import DecisionTreeRegressor\n",
    "from sklearn.metrics import r2_score\n",
    "\n",
    "regressor = DecisionTreeRegressor()\n",
    "regressor.fit(x_train, y_train)"
   ]
  },
  {
   "cell_type": "code",
   "execution_count": 108,
   "metadata": {},
   "outputs": [
    {
     "name": "stdout",
     "output_type": "stream",
     "text": [
      "0.669475973318193\n"
     ]
    }
   ],
   "source": [
    "pred=lm.predict(x_test)\n",
    "print(r2_score(y_test,pred))\n",
    "y_pred = regressor.predict(x_test)"
   ]
  },
  {
   "cell_type": "code",
   "execution_count": 109,
   "metadata": {},
   "outputs": [
    {
     "name": "stdout",
     "output_type": "stream",
     "text": [
      "0.669475973318193\n"
     ]
    }
   ],
   "source": [
    "print(r2_score(y_test,pred))"
   ]
  },
  {
   "cell_type": "markdown",
   "metadata": {},
   "source": [
    "# Support vector regression"
   ]
  },
  {
   "cell_type": "code",
   "execution_count": 116,
   "metadata": {},
   "outputs": [
    {
     "data": {
      "text/plain": [
       "SVR()"
      ]
     },
     "execution_count": 116,
     "metadata": {},
     "output_type": "execute_result"
    }
   ],
   "source": [
    "from sklearn.svm import SVR\n",
    "regressor = SVR(kernel = 'rbf')\n",
    "regressor.fit(x_train, y_train)"
   ]
  },
  {
   "cell_type": "code",
   "execution_count": 117,
   "metadata": {},
   "outputs": [],
   "source": [
    "y_pred = regressor.predict(x_test)"
   ]
  },
  {
   "cell_type": "code",
   "execution_count": 118,
   "metadata": {},
   "outputs": [
    {
     "name": "stdout",
     "output_type": "stream",
     "text": [
      "0.669475973318193\n"
     ]
    }
   ],
   "source": [
    "print(r2_score(y_test,pred))"
   ]
  },
  {
   "cell_type": "code",
   "execution_count": null,
   "metadata": {},
   "outputs": [],
   "source": []
  },
  {
   "cell_type": "code",
   "execution_count": 119,
   "metadata": {},
   "outputs": [
    {
     "data": {
      "text/plain": [
       "RandomForestRegressor(n_estimators=10, random_state=0)"
      ]
     },
     "execution_count": 119,
     "metadata": {},
     "output_type": "execute_result"
    }
   ],
   "source": [
    "from sklearn.ensemble import RandomForestRegressor\n",
    "regressor1 = RandomForestRegressor(n_estimators = 10, random_state = 0)\n",
    "regressor1.fit(x_train, y_train)"
   ]
  },
  {
   "cell_type": "code",
   "execution_count": 120,
   "metadata": {},
   "outputs": [],
   "source": [
    "y_pred = regressor1.predict(x_test)"
   ]
  },
  {
   "cell_type": "code",
   "execution_count": 121,
   "metadata": {},
   "outputs": [
    {
     "name": "stdout",
     "output_type": "stream",
     "text": [
      "0.669475973318193\n"
     ]
    }
   ],
   "source": [
    "print(r2_score(y_test,pred))"
   ]
  },
  {
   "cell_type": "code",
   "execution_count": null,
   "metadata": {},
   "outputs": [],
   "source": []
  },
  {
   "cell_type": "code",
   "execution_count": null,
   "metadata": {},
   "outputs": [],
   "source": []
  }
 ],
 "metadata": {
  "kernelspec": {
   "display_name": "Python 3",
   "language": "python",
   "name": "python3"
  },
  "language_info": {
   "codemirror_mode": {
    "name": "ipython",
    "version": 3
   },
   "file_extension": ".py",
   "mimetype": "text/x-python",
   "name": "python",
   "nbconvert_exporter": "python",
   "pygments_lexer": "ipython3",
   "version": "3.8.5"
  }
 },
 "nbformat": 4,
 "nbformat_minor": 5
}
